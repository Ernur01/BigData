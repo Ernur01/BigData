{
 "cells": [
  {
   "cell_type": "code",
   "execution_count": 28,
   "metadata": {},
   "outputs": [],
   "source": [
    "import pandas as pd\n",
    "import numpy as np\n",
    "import matplotlib.pyplot as plt\n",
    "import seaborn as sns\n",
    "from sklearn.linear_model import LinearRegression\n",
    "from sklearn import metrics\n",
    "%matplotlib inline\n",
    "from sklearn.model_selection import train_test_split"
   ]
  },
  {
   "cell_type": "code",
   "execution_count": 123,
   "metadata": {},
   "outputs": [],
   "source": [
    "df = pd.read_csv('flight_delays 1.csv', header = 0, sep=',')"
   ]
  },
  {
   "cell_type": "code",
   "execution_count": 124,
   "metadata": {},
   "outputs": [
    {
     "data": {
      "text/html": [
       "<div>\n",
       "<style scoped>\n",
       "    .dataframe tbody tr th:only-of-type {\n",
       "        vertical-align: middle;\n",
       "    }\n",
       "\n",
       "    .dataframe tbody tr th {\n",
       "        vertical-align: top;\n",
       "    }\n",
       "\n",
       "    .dataframe thead th {\n",
       "        text-align: right;\n",
       "    }\n",
       "</style>\n",
       "<table border=\"1\" class=\"dataframe\">\n",
       "  <thead>\n",
       "    <tr style=\"text-align: right;\">\n",
       "      <th></th>\n",
       "      <th>Month</th>\n",
       "      <th>DayofMonth</th>\n",
       "      <th>DayOfWeek</th>\n",
       "      <th>DepTime</th>\n",
       "      <th>UniqueCarrier</th>\n",
       "      <th>Origin</th>\n",
       "      <th>Dest</th>\n",
       "      <th>Distance</th>\n",
       "      <th>dep_delayed_15min</th>\n",
       "    </tr>\n",
       "  </thead>\n",
       "  <tbody>\n",
       "    <tr>\n",
       "      <td>0</td>\n",
       "      <td>c-8</td>\n",
       "      <td>c-21</td>\n",
       "      <td>c-7</td>\n",
       "      <td>1934</td>\n",
       "      <td>AA</td>\n",
       "      <td>ATL</td>\n",
       "      <td>DFW</td>\n",
       "      <td>732</td>\n",
       "      <td>N</td>\n",
       "    </tr>\n",
       "    <tr>\n",
       "      <td>1</td>\n",
       "      <td>c-4</td>\n",
       "      <td>c-20</td>\n",
       "      <td>c-3</td>\n",
       "      <td>1548</td>\n",
       "      <td>US</td>\n",
       "      <td>PIT</td>\n",
       "      <td>MCO</td>\n",
       "      <td>834</td>\n",
       "      <td>N</td>\n",
       "    </tr>\n",
       "    <tr>\n",
       "      <td>2</td>\n",
       "      <td>c-9</td>\n",
       "      <td>c-2</td>\n",
       "      <td>c-5</td>\n",
       "      <td>1422</td>\n",
       "      <td>XE</td>\n",
       "      <td>RDU</td>\n",
       "      <td>CLE</td>\n",
       "      <td>416</td>\n",
       "      <td>N</td>\n",
       "    </tr>\n",
       "    <tr>\n",
       "      <td>3</td>\n",
       "      <td>c-11</td>\n",
       "      <td>c-25</td>\n",
       "      <td>c-6</td>\n",
       "      <td>1015</td>\n",
       "      <td>OO</td>\n",
       "      <td>DEN</td>\n",
       "      <td>MEM</td>\n",
       "      <td>872</td>\n",
       "      <td>N</td>\n",
       "    </tr>\n",
       "    <tr>\n",
       "      <td>4</td>\n",
       "      <td>c-10</td>\n",
       "      <td>c-7</td>\n",
       "      <td>c-6</td>\n",
       "      <td>1828</td>\n",
       "      <td>WN</td>\n",
       "      <td>MDW</td>\n",
       "      <td>OMA</td>\n",
       "      <td>423</td>\n",
       "      <td>Y</td>\n",
       "    </tr>\n",
       "    <tr>\n",
       "      <td>...</td>\n",
       "      <td>...</td>\n",
       "      <td>...</td>\n",
       "      <td>...</td>\n",
       "      <td>...</td>\n",
       "      <td>...</td>\n",
       "      <td>...</td>\n",
       "      <td>...</td>\n",
       "      <td>...</td>\n",
       "      <td>...</td>\n",
       "    </tr>\n",
       "    <tr>\n",
       "      <td>99995</td>\n",
       "      <td>c-5</td>\n",
       "      <td>c-4</td>\n",
       "      <td>c-3</td>\n",
       "      <td>1618</td>\n",
       "      <td>OO</td>\n",
       "      <td>SFO</td>\n",
       "      <td>RDD</td>\n",
       "      <td>199</td>\n",
       "      <td>N</td>\n",
       "    </tr>\n",
       "    <tr>\n",
       "      <td>99996</td>\n",
       "      <td>c-1</td>\n",
       "      <td>c-18</td>\n",
       "      <td>c-3</td>\n",
       "      <td>804</td>\n",
       "      <td>CO</td>\n",
       "      <td>EWR</td>\n",
       "      <td>DAB</td>\n",
       "      <td>884</td>\n",
       "      <td>N</td>\n",
       "    </tr>\n",
       "    <tr>\n",
       "      <td>99997</td>\n",
       "      <td>c-1</td>\n",
       "      <td>c-24</td>\n",
       "      <td>c-2</td>\n",
       "      <td>1901</td>\n",
       "      <td>NW</td>\n",
       "      <td>DTW</td>\n",
       "      <td>IAH</td>\n",
       "      <td>1076</td>\n",
       "      <td>N</td>\n",
       "    </tr>\n",
       "    <tr>\n",
       "      <td>99998</td>\n",
       "      <td>c-4</td>\n",
       "      <td>c-27</td>\n",
       "      <td>c-4</td>\n",
       "      <td>1515</td>\n",
       "      <td>MQ</td>\n",
       "      <td>DFW</td>\n",
       "      <td>GGG</td>\n",
       "      <td>140</td>\n",
       "      <td>N</td>\n",
       "    </tr>\n",
       "    <tr>\n",
       "      <td>99999</td>\n",
       "      <td>c-11</td>\n",
       "      <td>c-17</td>\n",
       "      <td>c-4</td>\n",
       "      <td>1800</td>\n",
       "      <td>WN</td>\n",
       "      <td>SEA</td>\n",
       "      <td>SMF</td>\n",
       "      <td>605</td>\n",
       "      <td>N</td>\n",
       "    </tr>\n",
       "  </tbody>\n",
       "</table>\n",
       "<p>100000 rows × 9 columns</p>\n",
       "</div>"
      ],
      "text/plain": [
       "      Month DayofMonth DayOfWeek  DepTime UniqueCarrier Origin Dest  Distance  \\\n",
       "0       c-8       c-21       c-7     1934            AA    ATL  DFW       732   \n",
       "1       c-4       c-20       c-3     1548            US    PIT  MCO       834   \n",
       "2       c-9        c-2       c-5     1422            XE    RDU  CLE       416   \n",
       "3      c-11       c-25       c-6     1015            OO    DEN  MEM       872   \n",
       "4      c-10        c-7       c-6     1828            WN    MDW  OMA       423   \n",
       "...     ...        ...       ...      ...           ...    ...  ...       ...   \n",
       "99995   c-5        c-4       c-3     1618            OO    SFO  RDD       199   \n",
       "99996   c-1       c-18       c-3      804            CO    EWR  DAB       884   \n",
       "99997   c-1       c-24       c-2     1901            NW    DTW  IAH      1076   \n",
       "99998   c-4       c-27       c-4     1515            MQ    DFW  GGG       140   \n",
       "99999  c-11       c-17       c-4     1800            WN    SEA  SMF       605   \n",
       "\n",
       "      dep_delayed_15min  \n",
       "0                     N  \n",
       "1                     N  \n",
       "2                     N  \n",
       "3                     N  \n",
       "4                     Y  \n",
       "...                 ...  \n",
       "99995                 N  \n",
       "99996                 N  \n",
       "99997                 N  \n",
       "99998                 N  \n",
       "99999                 N  \n",
       "\n",
       "[100000 rows x 9 columns]"
      ]
     },
     "execution_count": 124,
     "metadata": {},
     "output_type": "execute_result"
    }
   ],
   "source": [
    "df"
   ]
  },
  {
   "cell_type": "code",
   "execution_count": 125,
   "metadata": {},
   "outputs": [],
   "source": [
    "def do_norm_table():\n",
    "    df['Month']= df['Month'].apply(lambda x: x.split('-')[1])\n",
    "    df['Month'] = df['Month'].apply(int)\n",
    "    df['DayofMonth'] = df['DayofMonth'].apply(lambda x: x.split('-')[1])\n",
    "    df['DayofMonth'] = df['DayofMonth'].apply(int)\n",
    "    df['DayOfWeek'] = df['DayOfWeek'].apply(lambda x: x.split('-')[1])\n",
    "    df['DayOfWeek'] = df['DayOfWeek'].apply(int)\n",
    "df_delay   = df[df.dep_delayed_15min==1]\n",
    "df_nodelay = df[df.dep_delayed_15min==0]\n",
    "delays          = len(df_delay)\n",
    "nodelays        = len(df_nodelay)\n",
    "airlines        = sorted(df.UniqueCarrier.unique())\n",
    "origins         = sorted(df.Origin.unique(), reverse=True)\n",
    "destinations    = sorted(df.Dest.unique(), reverse=True)\n",
    "numAirlines     = len(airlines)\n",
    "numOrigins      = len(origins)\n",
    "numDestinations = len(destinations)\n",
    "minDist         = df.Distance.min()\n",
    "maxDist         = df.Distance.max()\n",
    "\n",
    "do_norm_table()\n",
    "def no_yes(val):\n",
    "    if 'Y' in val:\n",
    "        return 1\n",
    "    else:\n",
    "        return 0\n",
    "df['dep_delayed_15min'] = df['dep_delayed_15min'].apply(lambda x: no_yes(x))"
   ]
  },
  {
   "cell_type": "code",
   "execution_count": null,
   "metadata": {},
   "outputs": [],
   "source": []
  },
  {
   "cell_type": "code",
   "execution_count": 126,
   "metadata": {},
   "outputs": [
    {
     "data": {
      "text/html": [
       "<div>\n",
       "<style scoped>\n",
       "    .dataframe tbody tr th:only-of-type {\n",
       "        vertical-align: middle;\n",
       "    }\n",
       "\n",
       "    .dataframe tbody tr th {\n",
       "        vertical-align: top;\n",
       "    }\n",
       "\n",
       "    .dataframe thead th {\n",
       "        text-align: right;\n",
       "    }\n",
       "</style>\n",
       "<table border=\"1\" class=\"dataframe\">\n",
       "  <thead>\n",
       "    <tr style=\"text-align: right;\">\n",
       "      <th></th>\n",
       "      <th>Month</th>\n",
       "      <th>DayofMonth</th>\n",
       "      <th>DayOfWeek</th>\n",
       "      <th>DepTime</th>\n",
       "      <th>UniqueCarrier</th>\n",
       "      <th>Origin</th>\n",
       "      <th>Dest</th>\n",
       "      <th>Distance</th>\n",
       "      <th>dep_delayed_15min</th>\n",
       "    </tr>\n",
       "  </thead>\n",
       "  <tbody>\n",
       "    <tr>\n",
       "      <td>0</td>\n",
       "      <td>8</td>\n",
       "      <td>21</td>\n",
       "      <td>7</td>\n",
       "      <td>1934</td>\n",
       "      <td>AA</td>\n",
       "      <td>ATL</td>\n",
       "      <td>DFW</td>\n",
       "      <td>732</td>\n",
       "      <td>0</td>\n",
       "    </tr>\n",
       "    <tr>\n",
       "      <td>1</td>\n",
       "      <td>4</td>\n",
       "      <td>20</td>\n",
       "      <td>3</td>\n",
       "      <td>1548</td>\n",
       "      <td>US</td>\n",
       "      <td>PIT</td>\n",
       "      <td>MCO</td>\n",
       "      <td>834</td>\n",
       "      <td>0</td>\n",
       "    </tr>\n",
       "    <tr>\n",
       "      <td>2</td>\n",
       "      <td>9</td>\n",
       "      <td>2</td>\n",
       "      <td>5</td>\n",
       "      <td>1422</td>\n",
       "      <td>XE</td>\n",
       "      <td>RDU</td>\n",
       "      <td>CLE</td>\n",
       "      <td>416</td>\n",
       "      <td>0</td>\n",
       "    </tr>\n",
       "    <tr>\n",
       "      <td>3</td>\n",
       "      <td>11</td>\n",
       "      <td>25</td>\n",
       "      <td>6</td>\n",
       "      <td>1015</td>\n",
       "      <td>OO</td>\n",
       "      <td>DEN</td>\n",
       "      <td>MEM</td>\n",
       "      <td>872</td>\n",
       "      <td>0</td>\n",
       "    </tr>\n",
       "    <tr>\n",
       "      <td>4</td>\n",
       "      <td>10</td>\n",
       "      <td>7</td>\n",
       "      <td>6</td>\n",
       "      <td>1828</td>\n",
       "      <td>WN</td>\n",
       "      <td>MDW</td>\n",
       "      <td>OMA</td>\n",
       "      <td>423</td>\n",
       "      <td>1</td>\n",
       "    </tr>\n",
       "    <tr>\n",
       "      <td>...</td>\n",
       "      <td>...</td>\n",
       "      <td>...</td>\n",
       "      <td>...</td>\n",
       "      <td>...</td>\n",
       "      <td>...</td>\n",
       "      <td>...</td>\n",
       "      <td>...</td>\n",
       "      <td>...</td>\n",
       "      <td>...</td>\n",
       "    </tr>\n",
       "    <tr>\n",
       "      <td>99995</td>\n",
       "      <td>5</td>\n",
       "      <td>4</td>\n",
       "      <td>3</td>\n",
       "      <td>1618</td>\n",
       "      <td>OO</td>\n",
       "      <td>SFO</td>\n",
       "      <td>RDD</td>\n",
       "      <td>199</td>\n",
       "      <td>0</td>\n",
       "    </tr>\n",
       "    <tr>\n",
       "      <td>99996</td>\n",
       "      <td>1</td>\n",
       "      <td>18</td>\n",
       "      <td>3</td>\n",
       "      <td>804</td>\n",
       "      <td>CO</td>\n",
       "      <td>EWR</td>\n",
       "      <td>DAB</td>\n",
       "      <td>884</td>\n",
       "      <td>0</td>\n",
       "    </tr>\n",
       "    <tr>\n",
       "      <td>99997</td>\n",
       "      <td>1</td>\n",
       "      <td>24</td>\n",
       "      <td>2</td>\n",
       "      <td>1901</td>\n",
       "      <td>NW</td>\n",
       "      <td>DTW</td>\n",
       "      <td>IAH</td>\n",
       "      <td>1076</td>\n",
       "      <td>0</td>\n",
       "    </tr>\n",
       "    <tr>\n",
       "      <td>99998</td>\n",
       "      <td>4</td>\n",
       "      <td>27</td>\n",
       "      <td>4</td>\n",
       "      <td>1515</td>\n",
       "      <td>MQ</td>\n",
       "      <td>DFW</td>\n",
       "      <td>GGG</td>\n",
       "      <td>140</td>\n",
       "      <td>0</td>\n",
       "    </tr>\n",
       "    <tr>\n",
       "      <td>99999</td>\n",
       "      <td>11</td>\n",
       "      <td>17</td>\n",
       "      <td>4</td>\n",
       "      <td>1800</td>\n",
       "      <td>WN</td>\n",
       "      <td>SEA</td>\n",
       "      <td>SMF</td>\n",
       "      <td>605</td>\n",
       "      <td>0</td>\n",
       "    </tr>\n",
       "  </tbody>\n",
       "</table>\n",
       "<p>100000 rows × 9 columns</p>\n",
       "</div>"
      ],
      "text/plain": [
       "       Month  DayofMonth  DayOfWeek  DepTime UniqueCarrier Origin Dest  \\\n",
       "0          8          21          7     1934            AA    ATL  DFW   \n",
       "1          4          20          3     1548            US    PIT  MCO   \n",
       "2          9           2          5     1422            XE    RDU  CLE   \n",
       "3         11          25          6     1015            OO    DEN  MEM   \n",
       "4         10           7          6     1828            WN    MDW  OMA   \n",
       "...      ...         ...        ...      ...           ...    ...  ...   \n",
       "99995      5           4          3     1618            OO    SFO  RDD   \n",
       "99996      1          18          3      804            CO    EWR  DAB   \n",
       "99997      1          24          2     1901            NW    DTW  IAH   \n",
       "99998      4          27          4     1515            MQ    DFW  GGG   \n",
       "99999     11          17          4     1800            WN    SEA  SMF   \n",
       "\n",
       "       Distance  dep_delayed_15min  \n",
       "0           732                  0  \n",
       "1           834                  0  \n",
       "2           416                  0  \n",
       "3           872                  0  \n",
       "4           423                  1  \n",
       "...         ...                ...  \n",
       "99995       199                  0  \n",
       "99996       884                  0  \n",
       "99997      1076                  0  \n",
       "99998       140                  0  \n",
       "99999       605                  0  \n",
       "\n",
       "[100000 rows x 9 columns]"
      ]
     },
     "execution_count": 126,
     "metadata": {},
     "output_type": "execute_result"
    }
   ],
   "source": [
    "df"
   ]
  },
  {
   "cell_type": "code",
   "execution_count": 127,
   "metadata": {},
   "outputs": [
    {
     "name": "stdout",
     "output_type": "stream",
     "text": [
      "<class 'pandas.core.frame.DataFrame'>\n",
      "RangeIndex: 100000 entries, 0 to 99999\n",
      "Data columns (total 9 columns):\n",
      "Month                100000 non-null int64\n",
      "DayofMonth           100000 non-null int64\n",
      "DayOfWeek            100000 non-null int64\n",
      "DepTime              100000 non-null int64\n",
      "UniqueCarrier        100000 non-null object\n",
      "Origin               100000 non-null object\n",
      "Dest                 100000 non-null object\n",
      "Distance             100000 non-null int64\n",
      "dep_delayed_15min    100000 non-null int64\n",
      "dtypes: int64(6), object(3)\n",
      "memory usage: 6.9+ MB\n"
     ]
    }
   ],
   "source": [
    "df.info()"
   ]
  },
  {
   "cell_type": "code",
   "execution_count": null,
   "metadata": {},
   "outputs": [],
   "source": []
  },
  {
   "cell_type": "code",
   "execution_count": null,
   "metadata": {},
   "outputs": [],
   "source": []
  },
  {
   "cell_type": "code",
   "execution_count": null,
   "metadata": {
    "scrolled": true
   },
   "outputs": [],
   "source": []
  },
  {
   "cell_type": "code",
   "execution_count": null,
   "metadata": {},
   "outputs": [],
   "source": []
  },
  {
   "cell_type": "code",
   "execution_count": 128,
   "metadata": {},
   "outputs": [],
   "source": [
    "# df[df['dep_delayed_15min'] == 'Y'] = df[df['dep_delayed_15min'] == 0]\n",
    "# df['dep_delayed_15min'] = df['dep_delayed_15min'].fillna(1)\n",
    "# df[df['dep_delayed_15min'] == 'N'] = df[df['dep_delayed_15min'] == 0]\n",
    "# df['dep_delayed_15min'] = df['dep_delayed_15min'].fillna(0)"
   ]
  },
  {
   "cell_type": "code",
   "execution_count": null,
   "metadata": {},
   "outputs": [],
   "source": []
  },
  {
   "cell_type": "code",
   "execution_count": 129,
   "metadata": {},
   "outputs": [],
   "source": [
    "# x = df['dep_delayed_15min'].value_counts()\n",
    "# y = df['dep_delayed_15min']"
   ]
  },
  {
   "cell_type": "code",
   "execution_count": 130,
   "metadata": {},
   "outputs": [],
   "source": [
    "# df['DepTime'].max()"
   ]
  },
  {
   "cell_type": "code",
   "execution_count": null,
   "metadata": {},
   "outputs": [],
   "source": []
  },
  {
   "cell_type": "code",
   "execution_count": 131,
   "metadata": {},
   "outputs": [],
   "source": [
    "#sns.pairplot(df)"
   ]
  },
  {
   "cell_type": "code",
   "execution_count": null,
   "metadata": {},
   "outputs": [],
   "source": []
  },
  {
   "cell_type": "code",
   "execution_count": 132,
   "metadata": {},
   "outputs": [],
   "source": [
    "#sns.distplot(df[\"Month\"],kde=False,bins=25)"
   ]
  },
  {
   "cell_type": "code",
   "execution_count": 133,
   "metadata": {},
   "outputs": [],
   "source": [
    "#sns.jointplot(x=\"Month\",y=\"dep_delayed_15min\",data=df,kind=\"hex\")"
   ]
  },
  {
   "cell_type": "code",
   "execution_count": 134,
   "metadata": {},
   "outputs": [
    {
     "data": {
      "text/plain": [
       "<matplotlib.axes._subplots.AxesSubplot at 0x2120183ef48>"
      ]
     },
     "execution_count": 134,
     "metadata": {},
     "output_type": "execute_result"
    },
    {
     "data": {
      "image/png": "[encoded data removed]",
      "text/plain": [
       "<Figure size 432x288 with 1 Axes>"
      ]
     },
     "metadata": {
      "needs_background": "light"
     },
     "output_type": "display_data"
    }
   ],
   "source": [
    "sns.countplot(x=\"dep_delayed_15min\",data=df)"
   ]
  },
  {
   "cell_type": "code",
   "execution_count": 135,
   "metadata": {},
   "outputs": [],
   "source": [
    "# sns.distplot(df['dep_delayed_15min'],kde=False,bins=2)"
   ]
  },
  {
   "cell_type": "code",
   "execution_count": 136,
   "metadata": {
    "scrolled": true
   },
   "outputs": [],
   "source": [
    "# df.corr()"
   ]
  },
  {
   "cell_type": "code",
   "execution_count": 139,
   "metadata": {},
   "outputs": [
    {
     "data": {
      "image/png": "[encoded data removed]",
      "text/plain": [
       "<Figure size 1080x720 with 6 Axes>"
      ]
     },
     "metadata": {
      "needs_background": "light"
     },
     "output_type": "display_data"
    },
    {
     "data": {
      "text/plain": [
       "<matplotlib.legend.Legend at 0x2120378e788>"
      ]
     },
     "execution_count": 139,
     "metadata": {},
     "output_type": "execute_result"
    },
    {
     "data": {
      "image/png": "[encoded data removed]",
      "text/plain": [
       "<Figure size 720x360 with 1 Axes>"
      ]
     },
     "metadata": {
      "needs_background": "light"
     },
     "output_type": "display_data"
    }
   ],
   "source": [
    "import matplotlib.pyplot as plt\n",
    "%matplotlib inline\n",
    "\n",
    "fig, axes = plt.subplots( nrows=2, ncols=3, figsize=(15,10) )\n",
    "plt.subplots_adjust( wspace=0.20, hspace=0.20, top=0.93 )\n",
    "plt.suptitle(\"Airline Data Set\", fontsize=20)\n",
    "Ycol = [\"red\"]\n",
    "Ncol = [\"black\"]\n",
    "\n",
    "\n",
    "axes[0,0].hist(df_delay.Month,bins=12,range=[0.5,12.5],align=\"mid\",\n",
    "               color=Ycol,histtype=\"step\",label=\"delay\",density=True)\n",
    "axes[0,0].hist(df_nodelay.Month,bins=12,range=[0.4,12.4],align=\"mid\",\n",
    "               color=Ncol,histtype=\"step\",label=\"no delay\",density=True)\n",
    "axes[0,0].set_xlabel(\"Month\")\n",
    "axes[0,0].set_xlim(0.5,12.5)\n",
    "axes[0,0].set_ylim(0.0,0.15)\n",
    "axes[0,0].legend(prop={'size': 10},loc=\"upper right\")\n",
    "\n",
    "axes[0,1].hist(df_delay.DayofMonth,bins=31,range=[0.5,31.5],align=\"mid\",\n",
    "               color=Ycol,histtype=\"step\",label=\"delay\",density=True)\n",
    "axes[0,1].hist(df_nodelay.DayofMonth,bins=31,range=[0.4,31.4],align=\"mid\",\n",
    "               color=Ncol,histtype=\"step\",label=\"no delay\",density=True)\n",
    "axes[0,1].set_xlabel(\"Day of Month\")\n",
    "axes[0,1].set_xlim(0.5,31.5)\n",
    "axes[0,1].set_ylim(0.0,0.05)\n",
    "axes[0,1].legend(prop={'size': 10},loc=\"upper right\")\n",
    "\n",
    "axes[0,2].hist(df_delay.DayOfWeek,bins=7,range=[0.5,7.5],align=\"mid\",\n",
    "               color=Ycol,histtype=\"step\",label=\"delay\",density=True)\n",
    "axes[0,2].hist(df_nodelay.DayOfWeek,bins=7,range=[0.4,7.4],align=\"mid\",\n",
    "               color=Ncol,histtype=\"step\",label=\"no delay\",density=True)\n",
    "axes[0,2].set_xlabel(\"Day of Week\")\n",
    "axes[0,2].set_xlim(0.5,7.5)\n",
    "axes[0,2].set_ylim(0.0,0.25)\n",
    "axes[0,2].legend(prop={'size': 10},loc=\"upper right\")\n",
    "\n",
    "axes[1,0].hist(df_delay.DepTime,bins=24,range=[0,2400],\n",
    "               color=Ycol,histtype=\"step\",label=\"delay\",density=True)\n",
    "axes[1,0].hist(df_nodelay.DepTime,bins=24,range=[0,2400],\n",
    "               color=Ncol,histtype=\"step\",label=\"no delay\",density=True)\n",
    "axes[1,0].set_xlabel(\"Departure Time\")\n",
    "axes[1,0].set_xlim(0.0,2400.0)\n",
    "axes[1,0].set_ylim(0.0,0.0012)\n",
    "axes[1,0].legend(prop={'size': 10},loc=\"upper right\")\n",
    "\n",
    "axes[1,1].hist(df_delay.Distance,bins=50,range=[0,4000],\n",
    "               color=Ycol,histtype=\"step\",label=\"delay\",density=True)\n",
    "axes[1,1].hist(df_nodelay.Distance,bins=50,range=[0,4000],\n",
    "               color=Ncol,histtype=\"step\",label=\"no delay\",density=True)\n",
    "axes[1,1].set_xlabel(\"Distance\")\n",
    "axes[1,1].set_ylim(0.0,0.0014)\n",
    "axes[1,1].legend(prop={'size': 10},loc=\"upper right\")\n",
    "plt.show()\n",
    "#fig.savefig('FlightDelayFeatures1.png', dpi=200, bbox_inches='tight')\n",
    "\n",
    "fig, axes = plt.subplots( nrows=1, ncols=1, figsize=(10,5) )\n",
    "bins      = np.arange(numAirlines)\n",
    "heights   = df.groupby([\"UniqueCarrier\",\"dep_delayed_15min\"]).size()\n",
    "mulind    = pd.MultiIndex.from_product([airlines, [False, True]])\n",
    "heights   = heights.reindex(mulind).replace(np.nan, 0)\n",
    "heights1  = [heights[carrier,True] for carrier in airlines]\n",
    "heights1  = [float(height)/sum(heights1) for height in heights1]\n",
    "heights2  = [heights[carrier,False] for carrier in airlines]\n",
    "heights2  = [float(height)/sum(heights2) for height in heights2]\n",
    "axes.bar(bins,heights1,align=\"center\",edgecolor=Ycol,color=[\"none\"],label=\"delay\")\n",
    "axes.bar(bins-0.05,heights2,align=\"center\",edgecolor=Ncol,color=[\"none\"],label=\"no delay\")\n",
    "axes.set_xlabel(\"Carrier\",fontsize=15)\n",
    "axes.set_xticks(bins)\n",
    "axes.set_xticklabels(airlines, ha=\"center\", rotation=45.)\n",
    "axes.set_xlim([-0.5,bins.size-0.5])\n",
    "axes.set_ylim(0.0,0.20)\n",
    "axes.legend(prop={'size': 10},loc=\"upper right\")"
   ]
  },
  {
   "cell_type": "code",
   "execution_count": null,
   "metadata": {},
   "outputs": [],
   "source": []
  },
  {
   "cell_type": "code",
   "execution_count": 90,
   "metadata": {},
   "outputs": [
    {
     "name": "stdout",
     "output_type": "stream",
     "text": [
      "               Month     DayofMonth     DayOfWeek        DepTime  \\\n",
      "count  100000.000000  100000.000000  100000.00000  100000.000000   \n",
      "mean        6.537640      15.703850       3.95183    1341.523880   \n",
      "std         3.413447       8.793931       1.99164     476.378445   \n",
      "min         1.000000       1.000000       1.00000       1.000000   \n",
      "50%         7.000000      16.000000       4.00000    1330.000000   \n",
      "max        12.000000      31.000000       7.00000    2534.000000   \n",
      "\n",
      "           Distance  dep_delayed_15min  UniqueCarrier_AA  UniqueCarrier_AQ  \\\n",
      "count  100000.00000       100000.00000      100000.00000     100000.000000   \n",
      "mean      729.39716            0.19044           0.09418          0.002340   \n",
      "std       574.61686            0.39265           0.29208          0.048317   \n",
      "min        30.00000            0.00000           0.00000          0.000000   \n",
      "50%       575.00000            0.00000           0.00000          0.000000   \n",
      "max      4962.00000            1.00000           1.00000          1.000000   \n",
      "\n",
      "       UniqueCarrier_AS  UniqueCarrier_B6  ...       Dest_TYS       Dest_VCT  \\\n",
      "count     100000.000000     100000.000000  ...  100000.000000  100000.000000   \n",
      "mean           0.022220          0.018380  ...       0.001900       0.000010   \n",
      "std            0.147399          0.134322  ...       0.043548       0.003162   \n",
      "min            0.000000          0.000000  ...       0.000000       0.000000   \n",
      "50%            0.000000          0.000000  ...       0.000000       0.000000   \n",
      "max            1.000000          1.000000  ...       1.000000       1.000000   \n",
      "\n",
      "            Dest_VIS       Dest_VLD       Dest_VPS       Dest_WRG  \\\n",
      "count  100000.000000  100000.000000  100000.000000  100000.000000   \n",
      "mean        0.000070       0.000170       0.000990       0.000110   \n",
      "std         0.008366       0.013037       0.031449       0.010488   \n",
      "min         0.000000       0.000000       0.000000       0.000000   \n",
      "50%         0.000000       0.000000       0.000000       0.000000   \n",
      "max         1.000000       1.000000       1.000000       1.000000   \n",
      "\n",
      "            Dest_WYS       Dest_XNA       Dest_YAK       Dest_YUM  \n",
      "count  100000.000000  100000.000000  100000.000000  100000.000000  \n",
      "mean        0.000040       0.001810       0.000130       0.000320  \n",
      "std         0.006324       0.042506       0.011401       0.017886  \n",
      "min         0.000000       0.000000       0.000000       0.000000  \n",
      "50%         0.000000       0.000000       0.000000       0.000000  \n",
      "max         1.000000       1.000000       1.000000       1.000000  \n",
      "\n",
      "[6 rows x 606 columns]\n"
     ]
    }
   ],
   "source": [
    "df2 = pd.get_dummies(df,drop_first=False)\n",
    "print(df2.describe(percentiles=[], include=\"all\"))"
   ]
  },
  {
   "cell_type": "code",
   "execution_count": 91,
   "metadata": {},
   "outputs": [
    {
     "name": "stdout",
     "output_type": "stream",
     "text": [
      "Intrinsic discrepancies between delay and no-delay, in decreasing order: \n",
      "   0.020805  (Airline)\n",
      "   0.000000  (Month)\n",
      "   0.000000  (Day of the Month)\n",
      "   0.000000  (Day of the Week)\n",
      "   0.000000  (Departure Time)\n",
      "   0.000000  (Distance)\n",
      "   0.000000  (Origin)\n",
      "   0.000000  (Destination)\n"
     ]
    }
   ],
   "source": [
    "import numpy as np\n",
    "from collections import Counter\n",
    "\n",
    "# Given two histograms x and y (with the same range and binning), the following function\n",
    "# calculates the intrinsic discrepancy (a symmetrized Kullback-Leibler distance) between them.\n",
    "def intrinsic_discrepancy(x,y):\n",
    "    assert len(x)==len(y)\n",
    "    sumx = np.sum(x)\n",
    "    sumy = np.sum(y)\n",
    "    xiny = False\n",
    "    yinx = False\n",
    "    for (xval,yval) in zip(x,y):\n",
    "        if xval==0 and yval>0:\n",
    "            xiny = True\n",
    "        if xval>0 and yval==0:\n",
    "            yinx = True\n",
    "    if xiny and yinx:         # x and y supports not nested\n",
    "        return float(\"inf\")\n",
    "    elif xiny:                # x support nested in y support\n",
    "        id1  = 0.0\n",
    "        for (xval,yval) in zip(x,y):\n",
    "            if xval>0 and yval>0:\n",
    "                id1 += (float(xval)/sumx) * np.log((float(xval)/sumx)/(float(yval)/sumy))\n",
    "        return id1\n",
    "    elif yinx:                # y support nested in x support\n",
    "        id2  = 0.0\n",
    "        for (xval,yval) in zip(x,y):\n",
    "            if xval>0 and yval>0:\n",
    "                id2 += (float(yval)/sumy) * np.log((float(yval)/sumy)/(float(xval)/sumx))\n",
    "        return id2\n",
    "    else:                     # x and y supports identical\n",
    "        id1  = 0.0\n",
    "        id2  = 0.0\n",
    "        for (xval,yval) in zip(x,y):\n",
    "            if (xval>0) and (yval>0):\n",
    "                id1 += (float(xval)/sumx) * np.log((float(xval)/sumx)/(float(yval)/sumy))\n",
    "                id2 += (float(yval)/sumy) * np.log((float(yval)/sumy)/(float(xval)/sumx))\n",
    "        return min(id1,id2)\n",
    "\n",
    "int_discr = {}\n",
    "bin_edges        = np.linspace(0.5,12.5,13)\n",
    "hist1,bin_edges1 = np.histogram(df_delay.Month,   bins=bin_edges, density=False)\n",
    "hist2,bin_edges2 = np.histogram(df_nodelay.Month, bins=bin_edges, density=False)\n",
    "int_discr[\"Month\"] = intrinsic_discrepancy(hist1,hist2)\n",
    "bin_edges        = np.linspace(0.5,31.5,32)\n",
    "hist1,bin_edges1 = np.histogram(df_delay.DayofMonth,   bins=bin_edges, density=False)\n",
    "hist2,bin_edges2 = np.histogram(df_nodelay.DayofMonth, bins=bin_edges, density=False)\n",
    "int_discr[\"Day of the Month\"] = intrinsic_discrepancy(hist1,hist2)\n",
    "bin_edges        = np.linspace(0.5,7.5,8)\n",
    "hist1,bin_edges1 = np.histogram(df_delay.DayOfWeek,   bins=bin_edges, density=False)\n",
    "hist2,bin_edges2 = np.histogram(df_nodelay.DayOfWeek, bins=bin_edges, density=False)\n",
    "int_discr[\"Day of the Week\"] = intrinsic_discrepancy(hist1,hist2)\n",
    "bin_edges        = np.linspace(0.0,2400.0,24)\n",
    "hist1,bin_edges1 = np.histogram(df_delay.DepTime,   bins=bin_edges, density=False)\n",
    "hist2,bin_edges2 = np.histogram(df_nodelay.DepTime, bins=bin_edges, density=False)\n",
    "int_discr[\"Departure Time\"] = intrinsic_discrepancy(hist1,hist2)\n",
    "bin_edges        = np.linspace(0.0,5000.0,125)\n",
    "hist1,bin_edges1 = np.histogram(df_delay.Distance,   bins=bin_edges, density=False)\n",
    "hist2,bin_edges2 = np.histogram(df_nodelay.Distance, bins=bin_edges, density=False)\n",
    "int_discr[\"Distance\"] = intrinsic_discrepancy(hist1,hist2)\n",
    "hist             = df.groupby([\"Origin\",\"dep_delayed_15min\"]).size()\n",
    "mulind           = pd.MultiIndex.from_product([origins, [False, True]])\n",
    "hist             = hist.reindex(mulind).replace(np.nan, 0)\n",
    "hist1            = [hist[origin,True] for origin in origins]\n",
    "hist2            = [hist[origin,False] for origin in origins]\n",
    "int_discr[\"Origin\"] = intrinsic_discrepancy(hist1,hist2)\n",
    "hist             = df.groupby([\"Dest\",\"dep_delayed_15min\"]).size()\n",
    "mulind           = pd.MultiIndex.from_product([destinations, [False, True]])\n",
    "hist             = hist.reindex(mulind).replace(np.nan, 0)\n",
    "hist1            = [hist[destination,True] for destination in destinations]\n",
    "hist2            = [hist[destination,False] for destination in destinations]\n",
    "int_discr[\"Destination\"] = intrinsic_discrepancy(hist1,hist2)\n",
    "hist             = df.groupby([\"UniqueCarrier\",\"dep_delayed_15min\"]).size()\n",
    "mulind           = pd.MultiIndex.from_product([airlines, [False, True]])\n",
    "hist             = hist.reindex(mulind).replace(np.nan, 0)\n",
    "hist1            = [hist[airline,True] for airline in airlines]\n",
    "hist2            = [hist[airline,False] for airline in airlines]\n",
    "int_discr[\"Airline\"] = intrinsic_discrepancy(hist1,hist2)\n",
    "\n",
    "id_list = Counter(int_discr).most_common()\n",
    "print('Intrinsic discrepancies between delay and no-delay, in decreasing order: ')\n",
    "for item in id_list:\n",
    "    print('   %f  (%s)' % (item[1],item[0]))"
   ]
  },
  {
   "cell_type": "code",
   "execution_count": 52,
   "metadata": {},
   "outputs": [
    {
     "name": "stdout",
     "output_type": "stream",
     "text": [
      "Top 20 intrinsic discrepancies between delay and no-delay, in decreasing order: \n",
      "   0.248148  (Departure Time)\n",
      "   0.018049  (Month)\n",
      "   0.011412  (Distance)\n",
      "   0.008321  (Day of the Week)\n",
      "   0.005944  (Day of the Month)\n",
      "   0.005042  (Origin_ATL)\n",
      "   0.005019  (UniqueCarrier_EV)\n",
      "   0.004443  (UniqueCarrier_HA)\n",
      "   0.004084  (Origin_ORD)\n",
      "   0.002718  (Origin_HNL)\n",
      "   0.002303  (Dest_HNL)\n",
      "   0.002258  (Dest_IAH)\n",
      "   0.002248  (Dest_EWR)\n",
      "   0.002064  (Dest_SLC)\n",
      "   0.001870  (UniqueCarrier_WN)\n",
      "   0.001808  (Dest_CVG)\n",
      "   0.001537  (UniqueCarrier_FL)\n",
      "   0.001523  (Dest_DFW)\n",
      "   0.001214  (Origin_EWR)\n",
      "   0.001165  (UniqueCarrier_AS)\n"
     ]
    }
   ],
   "source": [
    "df2_delay   = df2[df2.dep_delayed_15min==True]\n",
    "df2_nodelay = df2[df2.dep_delayed_15min==False]\n",
    "\n",
    "int_discr = {}\n",
    "bin_edges        = np.linspace(0.5,12.5,13)\n",
    "hist1,bin_edges1 = np.histogram(df2_delay.Month,   bins=bin_edges, density=False)\n",
    "hist2,bin_edges2 = np.histogram(df2_nodelay.Month, bins=bin_edges, density=False)\n",
    "int_discr[\"Month\"] = intrinsic_discrepancy(hist1,hist2)\n",
    "bin_edges        = np.linspace(0.5,31.5,32)\n",
    "hist1,bin_edges1 = np.histogram(df2_delay.DayofMonth,   bins=bin_edges, density=False)\n",
    "hist2,bin_edges2 = np.histogram(df2_nodelay.DayofMonth, bins=bin_edges, density=False)\n",
    "int_discr[\"Day of the Month\"] = intrinsic_discrepancy(hist1,hist2)\n",
    "bin_edges        = np.linspace(0.5,7.5,8)\n",
    "hist1,bin_edges1 = np.histogram(df2_delay.DayOfWeek,   bins=bin_edges, density=False)\n",
    "hist2,bin_edges2 = np.histogram(df2_nodelay.DayOfWeek, bins=bin_edges, density=False)\n",
    "int_discr[\"Day of the Week\"] = intrinsic_discrepancy(hist1,hist2)\n",
    "bin_edges        = np.linspace(0.0,2400.0,24)\n",
    "hist1,bin_edges1 = np.histogram(df2_delay.DepTime,   bins=bin_edges, density=False)\n",
    "hist2,bin_edges2 = np.histogram(df2_nodelay.DepTime, bins=bin_edges, density=False)\n",
    "int_discr[\"Departure Time\"] = intrinsic_discrepancy(hist1,hist2)\n",
    "bin_edges        = np.linspace(0.0,5000.0,125)\n",
    "hist1,bin_edges1 = np.histogram(df2_delay.Distance,   bins=bin_edges, density=False)\n",
    "hist2,bin_edges2 = np.histogram(df2_nodelay.Distance, bins=bin_edges, density=False)\n",
    "int_discr[\"Distance\"] = intrinsic_discrepancy(hist1,hist2)\n",
    "\n",
    "# Now do the dummy variables, starting at column 7 to skip the 6 columns we already did, \n",
    "# plus the response column \"dep_delayed_15min\".\n",
    "bin_edges   = np.linspace(-0.5, 1.5, 3)\n",
    "for cname in list(df2.columns.values)[7:]:\n",
    "    hist1,bin_edges1 = np.histogram(df2_delay[cname],   bins=bin_edges, density=False)\n",
    "    hist2,bin_edges2 = np.histogram(df2_nodelay[cname], bins=bin_edges, density=False)\n",
    "    int_discr[cname] = intrinsic_discrepancy(hist1, hist2)\n",
    "    \n",
    "id_list  = Counter(int_discr).most_common()\n",
    "ndisplay = 20\n",
    "print('Top %i intrinsic discrepancies between delay and no-delay, in decreasing order: ' %ndisplay)\n",
    "for item in id_list[:ndisplay]:\n",
    "    print('   %f  (%s)' % (item[1],item[0]))"
   ]
  },
  {
   "cell_type": "code",
   "execution_count": 53,
   "metadata": {},
   "outputs": [
    {
     "name": "stderr",
     "output_type": "stream",
     "text": [
      "F:\\Programs\\Anaconda\\lib\\site-packages\\ipykernel_launcher.py:23: FutureWarning: Method .as_matrix will be removed in a future version. Use .values instead.\n"
     ]
    },
    {
     "name": "stdout",
     "output_type": "stream",
     "text": [
      "Initial data set prevalence: 0.190440\n",
      "Training set size: 70000, test set size: 30000, total: 100000, test fraction: 0.300000\n",
      "Prevalence in training set: 0.191086, in test set: 0.188933\n"
     ]
    }
   ],
   "source": [
    "import numpy as np\n",
    "from sklearn.model_selection import train_test_split\n",
    "\n",
    "test_fraction     = 0.30  # Fraction of total data set used for testing.\n",
    "adjust_prevalence = False # Set to True to modify the prevalence in the training and/or testing data sets.\n",
    "test_prevalence   = 0.60  # Desired prevalence in testing data set, only used if adjust_prevalence = True\n",
    "train_prevalence  = 0.45  # Desired prevalence in training data set, only used if adjust_prevalence = True\n",
    "\n",
    "np.random.seed(1)         # Random numbers are used by routine selectSubarray\n",
    "\n",
    "# Routine to randomly mask off a fraction frac of elements equal to elval in array arr.\n",
    "def selectSubarray( arr, elval, frac ):\n",
    "    mask = np.ones(len(arr), dtype=bool)\n",
    "    for ind,val in enumerate(arr):\n",
    "        if val == elval:\n",
    "            if np.random.uniform() <= frac:\n",
    "                mask[ind] = False\n",
    "    return mask\n",
    "\n",
    "# Convert pandas dataframe to its numpy representation, separating out features from target variable.\n",
    "features = df2.columns.values.tolist()\n",
    "features.remove(\"dep_delayed_15min\")\n",
    "X0 = df2.as_matrix(columns=features)\n",
    "Y0 = np.array([int(ybool) for ybool in df2[\"dep_delayed_15min\"].tolist()])\n",
    "\n",
    "# Make sure desired prevalences are larger than initial prevalence.\n",
    "prev = float(len([y for y in Y0 if y==1]))/len(Y0)\n",
    "print(\"Initial data set prevalence: %f\" %prev)\n",
    "assert test_prevalence >= prev,  \"Desired test data set prevalence below current value\"\n",
    "assert train_prevalence >= prev, \"Desired train data set prevalence below current value\"\n",
    "\n",
    "# If adjusting the prevalence differently in training and test data sets, the fraction of test data \n",
    "# needs to be adjusted to compensate.\n",
    "if adjust_prevalence:\n",
    "    test_f  = 1.0/(1.0+(train_prevalence/test_prevalence)*(1.0/test_fraction-1.0))\n",
    "    test_d  = (1.0/prev - 1.0/test_prevalence)/(1.0/prev - 1.0)\n",
    "    train_d = (1.0/prev - 1.0/train_prevalence)/(1.0/prev - 1.0)\n",
    "else:\n",
    "    test_f  = test_fraction\n",
    "\n",
    "# Create training and test sets, with desired proportions.\n",
    "X_train0, X_test0, y_train0, y_test0 = train_test_split(X0, Y0, test_size=test_f, random_state=0)\n",
    "\n",
    "# Adjust prevalences by removing data points belonging to class 0.\n",
    "if adjust_prevalence:\n",
    "    mask    = selectSubarray( y_train0, 0, train_d)\n",
    "    X_train = X_train0[mask]\n",
    "    y_train = y_train0[mask]\n",
    "    mask    = selectSubarray( y_test0, 0, test_d)\n",
    "    X_test  = X_test0[mask]\n",
    "    y_test  = y_test0[mask]\n",
    "    X       = np.append( X_train, X_test, axis=0)\n",
    "    Y       = np.append( y_train, y_test, axis=0)\n",
    "else:\n",
    "    X_train = X_train0[:]\n",
    "    y_train = y_train0[:]\n",
    "    X_test  = X_test0[:]\n",
    "    y_test  = y_test0[:]\n",
    "    X       = X0[:]\n",
    "    Y       = Y0[:]\n",
    "\n",
    "print(\"Training set size: %i, test set size: %i, total: %i, test fraction: %f\" \\\n",
    "      %(len(y_train),len(y_test),len(Y),float(len(y_test))/len(Y)))\n",
    "train_prevalence = float(len([y for y in y_train if y==1]))/len(y_train)\n",
    "test_prevalence  = float(len([y for y in y_test if y==1]))/len(y_test)\n",
    "print(\"Prevalence in training set: %f, in test set: %f\" %(train_prevalence,test_prevalence))"
   ]
  },
  {
   "cell_type": "code",
   "execution_count": 54,
   "metadata": {},
   "outputs": [
    {
     "name": "stdout",
     "output_type": "stream",
     "text": [
      "Wall time: 30.1 s\n"
     ]
    },
    {
     "data": {
      "text/plain": [
       "RandomForestClassifier(bootstrap=True, class_weight='balanced_subsample',\n",
       "                       criterion='gini', max_depth=20, max_features='auto',\n",
       "                       max_leaf_nodes=None, min_impurity_decrease=0.0,\n",
       "                       min_impurity_split=None, min_samples_leaf=2,\n",
       "                       min_samples_split=2, min_weight_fraction_leaf=0.0,\n",
       "                       n_estimators=200, n_jobs=-1, oob_score=True,\n",
       "                       random_state=0, verbose=0, warm_start=False)"
      ]
     },
     "execution_count": 54,
     "metadata": {},
     "output_type": "execute_result"
    }
   ],
   "source": [
    "from sklearn.ensemble import RandomForestClassifier\n",
    "\n",
    "rf2 = RandomForestClassifier(n_estimators=200, max_depth=20, min_samples_leaf=2, \n",
    "                             criterion=\"gini\", min_samples_split=2, min_weight_fraction_leaf=0.0, \n",
    "                             max_features=\"auto\", max_leaf_nodes=None, bootstrap=True,\n",
    "                             oob_score=True, verbose=0, warm_start=False, random_state=0, \n",
    "                             n_jobs=-1, class_weight=\"balanced_subsample\")\n",
    "%time rf2.fit(X_train, y_train)"
   ]
  },
  {
   "cell_type": "code",
   "execution_count": 55,
   "metadata": {},
   "outputs": [
    {
     "name": "stdout",
     "output_type": "stream",
     "text": [
      "Estimator currently in use:\n",
      "\n",
      "RandomForestClassifier(bootstrap=True, class_weight='balanced_subsample',\n",
      "                       criterion='gini', max_depth=20, max_features='auto',\n",
      "                       max_leaf_nodes=None, min_impurity_decrease=0.0,\n",
      "                       min_impurity_split=None, min_samples_leaf=2,\n",
      "                       min_samples_split=2, min_weight_fraction_leaf=0.0,\n",
      "                       n_estimators=200, n_jobs=-1, oob_score=True,\n",
      "                       random_state=0, verbose=0, warm_start=False)\n",
      "\n",
      "Mean accuracy on Training set: 0.6476571428571428\n",
      "Mean accuracy on Test set:     0.6192\n",
      "Null accuracy on Test set:     0.8110666666666667\n",
      " \n",
      "Confusion matrix:\n",
      "tn= 14545  fp=  9787\n",
      "fn=  1637  tp=  4031\n",
      "\n",
      "Detailed classification report: \n",
      "              precision    recall  f1-score   support\n",
      "\n",
      "           0       0.90      0.60      0.72     24332\n",
      "           1       0.29      0.71      0.41      5668\n",
      "\n",
      "    accuracy                           0.62     30000\n",
      "   macro avg       0.60      0.65      0.57     30000\n",
      "weighted avg       0.78      0.62      0.66     30000\n",
      "\n"
     ]
    }
   ],
   "source": [
    "from sklearn.metrics import classification_report, confusion_matrix\n",
    "\n",
    "print(\"Estimator currently in use:\\n\\n%s\\n\" %rf2)\n",
    "\n",
    "# score the model\n",
    "Ntest    = len(y_test)\n",
    "Ntestpos = len([val for val in y_test if val])\n",
    "NullAcc  = float(Ntest-Ntestpos)/Ntest\n",
    "print(\"Mean accuracy on Training set: %s\" %rf2.score(X_train, y_train))\n",
    "print(\"Mean accuracy on Test set:     %s\" %rf2.score(X_test, y_test))\n",
    "print(\"Null accuracy on Test set:     %s\" %NullAcc)\n",
    "print(\" \")\n",
    "y_true, y_pred = y_test, rf2.predict(X_test)\n",
    "cm             = confusion_matrix(y_true, y_pred)\n",
    "print(\"Confusion matrix:\\ntn=%6d  fp=%6d\\nfn=%6d  tp=%6d\" %(cm[0][0],cm[0][1],cm[1][0],cm[1][1]))\n",
    "print(\"\\nDetailed classification report: \\n%s\" %classification_report(y_true, y_pred))"
   ]
  },
  {
   "cell_type": "code",
   "execution_count": 56,
   "metadata": {},
   "outputs": [
    {
     "name": "stdout",
     "output_type": "stream",
     "text": [
      "Number of test values = 30000\n",
      "Number of test values equal to True = 5668\n"
     ]
    },
    {
     "data": {
      "image/png": "[encoded data removed]",
      "text/plain": [
       "<Figure size 720x360 with 1 Axes>"
      ]
     },
     "metadata": {
      "needs_background": "light"
     },
     "output_type": "display_data"
    },
    {
     "name": "stdout",
     "output_type": "stream",
     "text": [
      "Number of thresholds = 29993\n",
      "Delays in training set: 13376, no-delays: 56624\n",
      "Delays in test set: 5668, no-delays: 24332\n",
      "Intrinsic discrepancy in training set: inf, in test set: 0.29475501344093313\n"
     ]
    },
    {
     "data": {
      "image/png": "[encoded data removed]",
      "text/plain": [
       "<Figure size 864x360 with 2 Axes>"
      ]
     },
     "metadata": {
      "needs_background": "light"
     },
     "output_type": "display_data"
    },
    {
     "data": {
      "image/png": "[encoded data removed]",
      "text/plain": [
       "<Figure size 360x360 with 1 Axes>"
      ]
     },
     "metadata": {
      "needs_background": "light"
     },
     "output_type": "display_data"
    },
    {
     "data": {
      "image/png": "[encoded data removed]",
      "text/plain": [
       "<Figure size 360x360 with 1 Axes>"
      ]
     },
     "metadata": {
      "needs_background": "light"
     },
     "output_type": "display_data"
    },
    {
     "name": "stdout",
     "output_type": "stream",
     "text": [
      "Area under test ROC =  0.7172140258127657\n",
      "Area under train ROC = 0.7854930008798069\n"
     ]
    }
   ],
   "source": [
    "from sklearn import metrics\n",
    "import numpy as np\n",
    "\n",
    "print('Number of test values = %i' %len(y_test))\n",
    "print('Number of test values equal to True = %i' %(len([val for val in y_test if val])))\n",
    "\n",
    "# Compute and plot feature importances\n",
    "importances = rf2.feature_importances_\n",
    "indices     = np.argsort(importances)[::-1]\n",
    "n_features  = min(20,indices.size)\n",
    "bins        = np.arange(n_features)\n",
    "x_labels    = np.array(features)[indices][:n_features]\n",
    "fig, axes   = plt.subplots(nrows=1, ncols=1, figsize=(10, 5))\n",
    "plt.suptitle(\"Feature Importances\", fontsize=15)\n",
    "axes.bar(bins, importances[indices][:n_features], align=\"center\", color=\"lightblue\", alpha=0.5)\n",
    "axes.set_xticks(bins)\n",
    "axes.set_xticklabels(x_labels, ha=\"right\", rotation=45.)\n",
    "axes.set_xlim([-0.5,bins.size-0.5])\n",
    "plt.show()\n",
    "#fig.savefig('FeatureImportances.png', dpi=200, bbox_inches='tight')\n",
    "\n",
    "# Compute precision, recall, and queue rate as a function of threshold\n",
    "y_test_pred    = [p2 for [p1,p2] in rf2.predict_proba(X_test)]\n",
    "y_train_pred   = [p2 for [p1,p2] in rf2.predict_proba(X_train)]\n",
    "td0_precision, td0_recall, td0_thresholds = metrics.precision_recall_curve(y_test, y_test_pred)\n",
    "td0_thresholds = np.append(td0_thresholds, 1)\n",
    "n_thresholds   = td0_thresholds.size\n",
    "print('Number of thresholds = %i' %n_thresholds)\n",
    "n_max          = 100\n",
    "qr_thresholds  = np.linspace(0.0, 1.0, n_max+1)\n",
    "td0_queue_rate = []  \n",
    "for threshold in qr_thresholds:  \n",
    "    td0_queue_rate.append((y_test_pred >= threshold).mean())\n",
    "\n",
    "# Histogram random forest output probabilities\n",
    "y_train_pred_1 = [pred for (pred,truth) in zip(y_train_pred,y_train) if truth==1]\n",
    "y_train_pred_0 = [pred for (pred,truth) in zip(y_train_pred,y_train) if truth==0]\n",
    "y_test_pred_1  = [pred for (pred,truth) in zip(y_test_pred,y_test) if truth==1]\n",
    "y_test_pred_0  = [pred for (pred,truth) in zip(y_test_pred,y_test) if truth==0]\n",
    "print(\"Delays in training set: %i, no-delays: %i\" %(len(y_train_pred_1),len(y_train_pred_0)))\n",
    "print(\"Delays in test set: %i, no-delays: %i\" %(len(y_test_pred_1),len(y_test_pred_0)))\n",
    "bin_edges        = np.linspace(0.0,1.0,11)\n",
    "hist1,bin_edges1 = np.histogram(y_train_pred_1, bins=bin_edges, density=False)\n",
    "hist2,bin_edges2 = np.histogram(y_train_pred_0, bins=bin_edges, density=False)\n",
    "indis_train      = intrinsic_discrepancy(hist1, hist2)\n",
    "hist1,bin_edges1 = np.histogram(y_test_pred_1, bins=bin_edges, density=False)\n",
    "hist2,bin_edges2 = np.histogram(y_test_pred_0, bins=bin_edges, density=False)\n",
    "indis_test       = intrinsic_discrepancy(hist1, hist2)\n",
    "print(\"Intrinsic discrepancy in training set: %s, in test set: %s\" %(indis_train,indis_test))\n",
    "\n",
    "fig, axes = plt.subplots(nrows=1, ncols=2, figsize=(12,5))\n",
    "plt.subplots_adjust(wspace=0.40)\n",
    "axes[0].hist(y_train_pred_1, bins=20, range=[0.0,1.0], color=Ycol, histtype=\"step\", label=\"delay\", density=True)\n",
    "axes[0].hist(y_train_pred_0, bins=20, range=[0.0,1.0], color=Ncol, histtype=\"step\", label=\"no delay\", density=True)\n",
    "axes[0].set_xlabel(\"Classifier Output\", fontsize=15)\n",
    "axes[0].legend(prop={'size': 10}, loc=\"upper right\")\n",
    "axes[0].set_title(\"Training Set\", fontsize=15)\n",
    "axes[1].hist(y_test_pred_1, bins=20, range=[0.0,1.0], color=Ycol, histtype=\"step\", label=\"delay\", density=True)\n",
    "axes[1].hist(y_test_pred_0, bins=20, range=[0.0,1.0], color=Ncol, histtype=\"step\", label=\"no delay\", density=True)\n",
    "axes[1].set_xlabel(\"Classifier Output\", fontsize=15)\n",
    "axes[1].legend(prop={'size': 10}, loc=\"upper right\")\n",
    "axes[1].set_title(\"Test Set\", fontsize=15)\n",
    "plt.show()\n",
    "#fig.savefig('RF_probabilities.png', dpi=200, bbox_inches='tight')\n",
    "    \n",
    "# Plot precision, recall, and queue rate\n",
    "fig, axis = plt.subplots(nrows=1, ncols=1, figsize=(5, 5))\n",
    "axis.plot(td0_thresholds, td0_precision, color=\"blue\", label=\"precision\")\n",
    "axis.plot(td0_thresholds, td0_recall, color=\"green\", label=\"recall\")\n",
    "axis.plot(qr_thresholds, td0_queue_rate, color=\"orange\", label=\"queue rate\")\n",
    "axis.set_xlabel(\"Threshold\", fontsize=15)\n",
    "axis.set_xlim(0.0, 1.0)\n",
    "axis.set_ylim(0.0, 1.0)\n",
    "axis.grid(which=\"major\", axis=\"both\")\n",
    "axis.legend(prop={'size': 10}, loc=\"lower right\")\n",
    "plt.show()\n",
    "#fig.savefig(\"PRQ.png\", dpi=200, bbox_inches=\"tight\")\n",
    "\n",
    "# Compute and plot ROC\n",
    "fig, axis = plt.subplots(nrows=1, ncols=1, figsize=(5, 5))\n",
    "fpr_test, tpr_test, thresholds   = metrics.roc_curve(y_test, y_test_pred)\n",
    "auroc_test                       = metrics.auc(fpr_test,tpr_test)\n",
    "fpr_train, tpr_train, thresholds = metrics.roc_curve(y_train, y_train_pred)\n",
    "auroc_train                      = metrics.auc(fpr_train,tpr_train)\n",
    "axis.plot(fpr_test, tpr_test, color=\"blue\", label=\"test\")\n",
    "axis.plot(fpr_train, tpr_train, color=\"orange\", label=\"train\")\n",
    "axis.plot([0.0,1.0], [0.0,1.0], 'k--')\n",
    "axis.set_xlabel(\"False Positive Rate\", fontsize=15)\n",
    "axis.set_ylabel(\"True Positive Rate\", fontsize=15)\n",
    "axis.set_xlim(0.0, 1.0)\n",
    "axis.set_ylim(0.0, 1.0)\n",
    "axis.legend(prop={'size': 10}, loc=\"lower right\")\n",
    "plt.show()\n",
    "#fig.savefig('ROC.png', dpi=200, bbox_inches='tight')\n",
    "\n",
    "print('Area under test ROC =  %s' %auroc_test)\n",
    "print('Area under train ROC = %s' %auroc_train)"
   ]
  },
  {
   "cell_type": "code",
   "execution_count": 42,
   "metadata": {},
   "outputs": [],
   "source": [
    "#sns.heatmap(df.corr())"
   ]
  },
  {
   "cell_type": "code",
   "execution_count": 43,
   "metadata": {},
   "outputs": [],
   "source": [
    "#plt.plot(df['dep_delayed_15min'],df['Month'])"
   ]
  },
  {
   "cell_type": "code",
   "execution_count": 44,
   "metadata": {},
   "outputs": [],
   "source": [
    "Y = df['dep_delayed_15min']"
   ]
  },
  {
   "cell_type": "code",
   "execution_count": 45,
   "metadata": {},
   "outputs": [],
   "source": [
    "X = df[['Month','DayofMonth','DayOfWeek','Distance']]"
   ]
  },
  {
   "cell_type": "code",
   "execution_count": 46,
   "metadata": {},
   "outputs": [],
   "source": [
    "model = LinearRegression()"
   ]
  },
  {
   "cell_type": "code",
   "execution_count": 47,
   "metadata": {},
   "outputs": [],
   "source": [
    "X_train, X_test, Y_train, Y_test = train_test_split(X,Y)"
   ]
  },
  {
   "cell_type": "code",
   "execution_count": null,
   "metadata": {},
   "outputs": [],
   "source": []
  },
  {
   "cell_type": "code",
   "execution_count": 48,
   "metadata": {},
   "outputs": [
    {
     "data": {
      "text/plain": [
       "LinearRegression(copy_X=True, fit_intercept=True, n_jobs=None, normalize=False)"
      ]
     },
     "execution_count": 48,
     "metadata": {},
     "output_type": "execute_result"
    }
   ],
   "source": [
    "model.fit(X_train,Y_train)"
   ]
  },
  {
   "cell_type": "code",
   "execution_count": 49,
   "metadata": {},
   "outputs": [
    {
     "data": {
      "text/plain": [
       "array([ 1.98884033e-03,  1.07349613e-03,  1.84280759e-03, -2.11159807e-06])"
      ]
     },
     "execution_count": 49,
     "metadata": {},
     "output_type": "execute_result"
    }
   ],
   "source": [
    "model.coef_"
   ]
  },
  {
   "cell_type": "code",
   "execution_count": 50,
   "metadata": {},
   "outputs": [
    {
     "data": {
      "text/plain": [
       "0.3081477458869072"
      ]
     },
     "execution_count": 50,
     "metadata": {},
     "output_type": "execute_result"
    }
   ],
   "source": [
    "metrics.mean_absolute_error(model.predict(X_test),Y_test)"
   ]
  },
  {
   "cell_type": "code",
   "execution_count": 51,
   "metadata": {},
   "outputs": [
    {
     "data": {
      "text/plain": [
       "0.15415910904956606"
      ]
     },
     "execution_count": 51,
     "metadata": {},
     "output_type": "execute_result"
    }
   ],
   "source": [
    "metrics.mean_squared_error(model.predict(X_test),Y_test)"
   ]
  },
  {
   "cell_type": "code",
   "execution_count": 52,
   "metadata": {},
   "outputs": [
    {
     "data": {
      "text/plain": [
       "0.07582775559178523"
      ]
     },
     "execution_count": 52,
     "metadata": {},
     "output_type": "execute_result"
    }
   ],
   "source": [
    "metrics.mean_squared_log_error(model.predict(X_test),Y_test)"
   ]
  },
  {
   "cell_type": "code",
   "execution_count": 53,
   "metadata": {},
   "outputs": [
    {
     "data": {
      "text/plain": [
       "-1014.2526189560416"
      ]
     },
     "execution_count": 53,
     "metadata": {},
     "output_type": "execute_result"
    }
   ],
   "source": [
    "metrics.r2_score(model.predict(X_test),Y_test)"
   ]
  },
  {
   "cell_type": "code",
   "execution_count": 54,
   "metadata": {},
   "outputs": [
    {
     "data": {
      "text/plain": [
       "array([0.19109349, 0.191672  , 0.18522673, ..., 0.18801248, 0.18857478,\n",
       "       0.19658267])"
      ]
     },
     "execution_count": 54,
     "metadata": {},
     "output_type": "execute_result"
    }
   ],
   "source": [
    "model.predict(X_test)"
   ]
  },
  {
   "cell_type": "code",
   "execution_count": 55,
   "metadata": {},
   "outputs": [],
   "source": [
    "total = df['dep_delayed_15min'].count()\n",
    "delayed = df['dep_delayed_15min'].sum()\n",
    "not_delayed = total - delayed"
   ]
  },
  {
   "cell_type": "code",
   "execution_count": 56,
   "metadata": {},
   "outputs": [],
   "source": [
    "procentage = round(df['dep_delayed_15min'].value_counts() * 100 / len(df),1)"
   ]
  },
  {
   "cell_type": "code",
   "execution_count": 57,
   "metadata": {},
   "outputs": [
    {
     "data": {
      "text/plain": [
       "0    81.0\n",
       "1    19.0\n",
       "Name: dep_delayed_15min, dtype: float64"
      ]
     },
     "execution_count": 57,
     "metadata": {},
     "output_type": "execute_result"
    }
   ],
   "source": [
    "procentage"
   ]
  },
  {
   "cell_type": "code",
   "execution_count": 96,
   "metadata": {
    "scrolled": true
   },
   "outputs": [
    {
     "data": {
      "text/plain": [
       "<matplotlib.axes._subplots.AxesSubplot at 0x2125f16d408>"
      ]
     },
     "execution_count": 96,
     "metadata": {},
     "output_type": "execute_result"
    },
    {
     "data": {
      "image/png": "[encoded data removed]",
      "text/plain": [
       "<Figure size 432x288 with 1 Axes>"
      ]
     },
     "metadata": {
      "needs_background": "light"
     },
     "output_type": "display_data"
    }
   ],
   "source": [
    "sns.countplot(x=\"DayOfWeek\",data=df)"
   ]
  },
  {
   "cell_type": "code",
   "execution_count": 97,
   "metadata": {},
   "outputs": [
    {
     "data": {
      "text/plain": [
       "<matplotlib.axes._subplots.AxesSubplot at 0x2126011e808>"
      ]
     },
     "execution_count": 97,
     "metadata": {},
     "output_type": "execute_result"
    },
    {
     "data": {
      "image/png": "[encoded data removed]",
      "text/plain": [
       "<Figure size 432x288 with 1 Axes>"
      ]
     },
     "metadata": {
      "needs_background": "light"
     },
     "output_type": "display_data"
    }
   ],
   "source": [
    "sns.countplot(x='UniqueCarrier', data=df)"
   ]
  },
  {
   "cell_type": "code",
   "execution_count": null,
   "metadata": {},
   "outputs": [],
   "source": []
  },
  {
   "cell_type": "code",
   "execution_count": 98,
   "metadata": {},
   "outputs": [],
   "source": [
    "# sns.set(style=\"whitegrid\")\n",
    "\n",
    "# f, ax = plt.subplots(figsize=(6, 15))\n",
    "\n",
    "# sns.set_color_codes(\"pastel\")\n",
    "# sns.barplot(x=delayed, y=\"UniqueCarrier\", data=df,\n",
    "#             label=\"delayed\", color=\"b\")\n",
    "\n",
    "# sns.set_color_codes(\"muted\")\n",
    "# sns.barplot(x=not_delayed, y=\"UniqueCarrier\", data=df,\n",
    "#             label=\"not_delayed\", color=\"b\")\n",
    "\n",
    "# ax.legend(ncol=2, loc=\"lower right\", frameon=True)\n",
    "# ax.set(xlim=(0, 24), ylabel=\"\",\n",
    "#        xlabel=\"Automobile collisions per billion miles\")\n",
    "# sns.despine(left=True, bottom=True)"
   ]
  },
  {
   "cell_type": "code",
   "execution_count": 99,
   "metadata": {},
   "outputs": [],
   "source": [
    "# crashes"
   ]
  },
  {
   "cell_type": "code",
   "execution_count": 100,
   "metadata": {},
   "outputs": [],
   "source": [
    "days_in_month = np.array([31,28,31,30,31,30,31,31,30,31,30,31])\n",
    "def day_31_to_365(x):\n",
    "    days_365 = days_in_month[:x['Month']-1].sum() + x['DayofMonth']\n",
    "    return days_365"
   ]
  },
  {
   "cell_type": "code",
   "execution_count": 101,
   "metadata": {},
   "outputs": [],
   "source": [
    "df['DayofMonth'] = df.apply(day_31_to_365,axis = 1)"
   ]
  },
  {
   "cell_type": "code",
   "execution_count": 102,
   "metadata": {},
   "outputs": [
    {
     "data": {
      "text/html": [
       "<div>\n",
       "<style scoped>\n",
       "    .dataframe tbody tr th:only-of-type {\n",
       "        vertical-align: middle;\n",
       "    }\n",
       "\n",
       "    .dataframe tbody tr th {\n",
       "        vertical-align: top;\n",
       "    }\n",
       "\n",
       "    .dataframe thead th {\n",
       "        text-align: right;\n",
       "    }\n",
       "</style>\n",
       "<table border=\"1\" class=\"dataframe\">\n",
       "  <thead>\n",
       "    <tr style=\"text-align: right;\">\n",
       "      <th></th>\n",
       "      <th>Month</th>\n",
       "      <th>DayofMonth</th>\n",
       "      <th>DayOfWeek</th>\n",
       "      <th>DepTime</th>\n",
       "      <th>UniqueCarrier</th>\n",
       "      <th>Origin</th>\n",
       "      <th>Dest</th>\n",
       "      <th>Distance</th>\n",
       "      <th>dep_delayed_15min</th>\n",
       "    </tr>\n",
       "  </thead>\n",
       "  <tbody>\n",
       "    <tr>\n",
       "      <td>0</td>\n",
       "      <td>8</td>\n",
       "      <td>233</td>\n",
       "      <td>7</td>\n",
       "      <td>1934</td>\n",
       "      <td>AA</td>\n",
       "      <td>ATL</td>\n",
       "      <td>DFW</td>\n",
       "      <td>732</td>\n",
       "      <td>0</td>\n",
       "    </tr>\n",
       "    <tr>\n",
       "      <td>1</td>\n",
       "      <td>4</td>\n",
       "      <td>110</td>\n",
       "      <td>3</td>\n",
       "      <td>1548</td>\n",
       "      <td>US</td>\n",
       "      <td>PIT</td>\n",
       "      <td>MCO</td>\n",
       "      <td>834</td>\n",
       "      <td>0</td>\n",
       "    </tr>\n",
       "    <tr>\n",
       "      <td>2</td>\n",
       "      <td>9</td>\n",
       "      <td>245</td>\n",
       "      <td>5</td>\n",
       "      <td>1422</td>\n",
       "      <td>XE</td>\n",
       "      <td>RDU</td>\n",
       "      <td>CLE</td>\n",
       "      <td>416</td>\n",
       "      <td>0</td>\n",
       "    </tr>\n",
       "    <tr>\n",
       "      <td>3</td>\n",
       "      <td>11</td>\n",
       "      <td>329</td>\n",
       "      <td>6</td>\n",
       "      <td>1015</td>\n",
       "      <td>OO</td>\n",
       "      <td>DEN</td>\n",
       "      <td>MEM</td>\n",
       "      <td>872</td>\n",
       "      <td>0</td>\n",
       "    </tr>\n",
       "    <tr>\n",
       "      <td>4</td>\n",
       "      <td>10</td>\n",
       "      <td>280</td>\n",
       "      <td>6</td>\n",
       "      <td>1828</td>\n",
       "      <td>WN</td>\n",
       "      <td>MDW</td>\n",
       "      <td>OMA</td>\n",
       "      <td>423</td>\n",
       "      <td>1</td>\n",
       "    </tr>\n",
       "    <tr>\n",
       "      <td>...</td>\n",
       "      <td>...</td>\n",
       "      <td>...</td>\n",
       "      <td>...</td>\n",
       "      <td>...</td>\n",
       "      <td>...</td>\n",
       "      <td>...</td>\n",
       "      <td>...</td>\n",
       "      <td>...</td>\n",
       "      <td>...</td>\n",
       "    </tr>\n",
       "    <tr>\n",
       "      <td>99995</td>\n",
       "      <td>5</td>\n",
       "      <td>124</td>\n",
       "      <td>3</td>\n",
       "      <td>1618</td>\n",
       "      <td>OO</td>\n",
       "      <td>SFO</td>\n",
       "      <td>RDD</td>\n",
       "      <td>199</td>\n",
       "      <td>0</td>\n",
       "    </tr>\n",
       "    <tr>\n",
       "      <td>99996</td>\n",
       "      <td>1</td>\n",
       "      <td>18</td>\n",
       "      <td>3</td>\n",
       "      <td>804</td>\n",
       "      <td>CO</td>\n",
       "      <td>EWR</td>\n",
       "      <td>DAB</td>\n",
       "      <td>884</td>\n",
       "      <td>0</td>\n",
       "    </tr>\n",
       "    <tr>\n",
       "      <td>99997</td>\n",
       "      <td>1</td>\n",
       "      <td>24</td>\n",
       "      <td>2</td>\n",
       "      <td>1901</td>\n",
       "      <td>NW</td>\n",
       "      <td>DTW</td>\n",
       "      <td>IAH</td>\n",
       "      <td>1076</td>\n",
       "      <td>0</td>\n",
       "    </tr>\n",
       "    <tr>\n",
       "      <td>99998</td>\n",
       "      <td>4</td>\n",
       "      <td>117</td>\n",
       "      <td>4</td>\n",
       "      <td>1515</td>\n",
       "      <td>MQ</td>\n",
       "      <td>DFW</td>\n",
       "      <td>GGG</td>\n",
       "      <td>140</td>\n",
       "      <td>0</td>\n",
       "    </tr>\n",
       "    <tr>\n",
       "      <td>99999</td>\n",
       "      <td>11</td>\n",
       "      <td>321</td>\n",
       "      <td>4</td>\n",
       "      <td>1800</td>\n",
       "      <td>WN</td>\n",
       "      <td>SEA</td>\n",
       "      <td>SMF</td>\n",
       "      <td>605</td>\n",
       "      <td>0</td>\n",
       "    </tr>\n",
       "  </tbody>\n",
       "</table>\n",
       "<p>100000 rows × 9 columns</p>\n",
       "</div>"
      ],
      "text/plain": [
       "       Month  DayofMonth  DayOfWeek  DepTime UniqueCarrier Origin Dest  \\\n",
       "0          8         233          7     1934            AA    ATL  DFW   \n",
       "1          4         110          3     1548            US    PIT  MCO   \n",
       "2          9         245          5     1422            XE    RDU  CLE   \n",
       "3         11         329          6     1015            OO    DEN  MEM   \n",
       "4         10         280          6     1828            WN    MDW  OMA   \n",
       "...      ...         ...        ...      ...           ...    ...  ...   \n",
       "99995      5         124          3     1618            OO    SFO  RDD   \n",
       "99996      1          18          3      804            CO    EWR  DAB   \n",
       "99997      1          24          2     1901            NW    DTW  IAH   \n",
       "99998      4         117          4     1515            MQ    DFW  GGG   \n",
       "99999     11         321          4     1800            WN    SEA  SMF   \n",
       "\n",
       "       Distance  dep_delayed_15min  \n",
       "0           732                  0  \n",
       "1           834                  0  \n",
       "2           416                  0  \n",
       "3           872                  0  \n",
       "4           423                  1  \n",
       "...         ...                ...  \n",
       "99995       199                  0  \n",
       "99996       884                  0  \n",
       "99997      1076                  0  \n",
       "99998       140                  0  \n",
       "99999       605                  0  \n",
       "\n",
       "[100000 rows x 9 columns]"
      ]
     },
     "execution_count": 102,
     "metadata": {},
     "output_type": "execute_result"
    }
   ],
   "source": [
    "df"
   ]
  },
  {
   "cell_type": "code",
   "execution_count": 103,
   "metadata": {},
   "outputs": [],
   "source": [
    "# for i in df['DepTime']:\n",
    "#     if i <=2400:\n",
    "#         df['DepTime'] = np.ceil(df['DepTime']/600).apply(int)\n",
    "#     else:\n",
    "#         df['DepTime'] = 4\n",
    "def dadada(val):\n",
    "    if val <= 2400:\n",
    "        g= df['DepTime'] = np.ceil(val/600)\n",
    "        return g\n",
    "    else:\n",
    "        f = df['DepTime'] = np.round(val/600)\n",
    "        return f\n",
    "df['DepTime'] = df['DepTime'].apply(lambda x: round(dadada(x)),0)"
   ]
  },
  {
   "cell_type": "code",
   "execution_count": 115,
   "metadata": {},
   "outputs": [
    {
     "data": {
      "text/html": [
       "<div>\n",
       "<style scoped>\n",
       "    .dataframe tbody tr th:only-of-type {\n",
       "        vertical-align: middle;\n",
       "    }\n",
       "\n",
       "    .dataframe tbody tr th {\n",
       "        vertical-align: top;\n",
       "    }\n",
       "\n",
       "    .dataframe thead th {\n",
       "        text-align: right;\n",
       "    }\n",
       "</style>\n",
       "<table border=\"1\" class=\"dataframe\">\n",
       "  <thead>\n",
       "    <tr style=\"text-align: right;\">\n",
       "      <th></th>\n",
       "      <th>Month</th>\n",
       "      <th>DayofMonth</th>\n",
       "      <th>DayOfWeek</th>\n",
       "      <th>DepTime</th>\n",
       "      <th>UniqueCarrier</th>\n",
       "      <th>Origin</th>\n",
       "      <th>Dest</th>\n",
       "      <th>Distance</th>\n",
       "      <th>dep_delayed_15min</th>\n",
       "      <th>WEEK</th>\n",
       "    </tr>\n",
       "  </thead>\n",
       "  <tbody>\n",
       "    <tr>\n",
       "      <td>0</td>\n",
       "      <td>8</td>\n",
       "      <td>233</td>\n",
       "      <td>7</td>\n",
       "      <td>4</td>\n",
       "      <td>AA</td>\n",
       "      <td>ATL</td>\n",
       "      <td>DFW</td>\n",
       "      <td>732</td>\n",
       "      <td>0</td>\n",
       "      <td>33</td>\n",
       "    </tr>\n",
       "    <tr>\n",
       "      <td>1</td>\n",
       "      <td>4</td>\n",
       "      <td>110</td>\n",
       "      <td>3</td>\n",
       "      <td>3</td>\n",
       "      <td>US</td>\n",
       "      <td>PIT</td>\n",
       "      <td>MCO</td>\n",
       "      <td>834</td>\n",
       "      <td>0</td>\n",
       "      <td>15</td>\n",
       "    </tr>\n",
       "    <tr>\n",
       "      <td>2</td>\n",
       "      <td>9</td>\n",
       "      <td>245</td>\n",
       "      <td>5</td>\n",
       "      <td>3</td>\n",
       "      <td>XE</td>\n",
       "      <td>RDU</td>\n",
       "      <td>CLE</td>\n",
       "      <td>416</td>\n",
       "      <td>0</td>\n",
       "      <td>35</td>\n",
       "    </tr>\n",
       "    <tr>\n",
       "      <td>3</td>\n",
       "      <td>11</td>\n",
       "      <td>329</td>\n",
       "      <td>6</td>\n",
       "      <td>2</td>\n",
       "      <td>OO</td>\n",
       "      <td>DEN</td>\n",
       "      <td>MEM</td>\n",
       "      <td>872</td>\n",
       "      <td>0</td>\n",
       "      <td>47</td>\n",
       "    </tr>\n",
       "    <tr>\n",
       "      <td>4</td>\n",
       "      <td>10</td>\n",
       "      <td>280</td>\n",
       "      <td>6</td>\n",
       "      <td>4</td>\n",
       "      <td>WN</td>\n",
       "      <td>MDW</td>\n",
       "      <td>OMA</td>\n",
       "      <td>423</td>\n",
       "      <td>1</td>\n",
       "      <td>40</td>\n",
       "    </tr>\n",
       "    <tr>\n",
       "      <td>...</td>\n",
       "      <td>...</td>\n",
       "      <td>...</td>\n",
       "      <td>...</td>\n",
       "      <td>...</td>\n",
       "      <td>...</td>\n",
       "      <td>...</td>\n",
       "      <td>...</td>\n",
       "      <td>...</td>\n",
       "      <td>...</td>\n",
       "      <td>...</td>\n",
       "    </tr>\n",
       "    <tr>\n",
       "      <td>99995</td>\n",
       "      <td>5</td>\n",
       "      <td>124</td>\n",
       "      <td>3</td>\n",
       "      <td>3</td>\n",
       "      <td>OO</td>\n",
       "      <td>SFO</td>\n",
       "      <td>RDD</td>\n",
       "      <td>199</td>\n",
       "      <td>0</td>\n",
       "      <td>17</td>\n",
       "    </tr>\n",
       "    <tr>\n",
       "      <td>99996</td>\n",
       "      <td>1</td>\n",
       "      <td>18</td>\n",
       "      <td>3</td>\n",
       "      <td>2</td>\n",
       "      <td>CO</td>\n",
       "      <td>EWR</td>\n",
       "      <td>DAB</td>\n",
       "      <td>884</td>\n",
       "      <td>0</td>\n",
       "      <td>2</td>\n",
       "    </tr>\n",
       "    <tr>\n",
       "      <td>99997</td>\n",
       "      <td>1</td>\n",
       "      <td>24</td>\n",
       "      <td>2</td>\n",
       "      <td>4</td>\n",
       "      <td>NW</td>\n",
       "      <td>DTW</td>\n",
       "      <td>IAH</td>\n",
       "      <td>1076</td>\n",
       "      <td>0</td>\n",
       "      <td>3</td>\n",
       "    </tr>\n",
       "    <tr>\n",
       "      <td>99998</td>\n",
       "      <td>4</td>\n",
       "      <td>117</td>\n",
       "      <td>4</td>\n",
       "      <td>3</td>\n",
       "      <td>MQ</td>\n",
       "      <td>DFW</td>\n",
       "      <td>GGG</td>\n",
       "      <td>140</td>\n",
       "      <td>0</td>\n",
       "      <td>16</td>\n",
       "    </tr>\n",
       "    <tr>\n",
       "      <td>99999</td>\n",
       "      <td>11</td>\n",
       "      <td>321</td>\n",
       "      <td>4</td>\n",
       "      <td>3</td>\n",
       "      <td>WN</td>\n",
       "      <td>SEA</td>\n",
       "      <td>SMF</td>\n",
       "      <td>605</td>\n",
       "      <td>0</td>\n",
       "      <td>45</td>\n",
       "    </tr>\n",
       "  </tbody>\n",
       "</table>\n",
       "<p>100000 rows × 10 columns</p>\n",
       "</div>"
      ],
      "text/plain": [
       "       Month  DayofMonth  DayOfWeek DepTime UniqueCarrier Origin Dest  \\\n",
       "0          8         233          7       4            AA    ATL  DFW   \n",
       "1          4         110          3       3            US    PIT  MCO   \n",
       "2          9         245          5       3            XE    RDU  CLE   \n",
       "3         11         329          6       2            OO    DEN  MEM   \n",
       "4         10         280          6       4            WN    MDW  OMA   \n",
       "...      ...         ...        ...     ...           ...    ...  ...   \n",
       "99995      5         124          3       3            OO    SFO  RDD   \n",
       "99996      1          18          3       2            CO    EWR  DAB   \n",
       "99997      1          24          2       4            NW    DTW  IAH   \n",
       "99998      4         117          4       3            MQ    DFW  GGG   \n",
       "99999     11         321          4       3            WN    SEA  SMF   \n",
       "\n",
       "       Distance  dep_delayed_15min  WEEK  \n",
       "0           732                  0    33  \n",
       "1           834                  0    15  \n",
       "2           416                  0    35  \n",
       "3           872                  0    47  \n",
       "4           423                  1    40  \n",
       "...         ...                ...   ...  \n",
       "99995       199                  0    17  \n",
       "99996       884                  0     2  \n",
       "99997      1076                  0     3  \n",
       "99998       140                  0    16  \n",
       "99999       605                  0    45  \n",
       "\n",
       "[100000 rows x 10 columns]"
      ]
     },
     "execution_count": 115,
     "metadata": {},
     "output_type": "execute_result"
    }
   ],
   "source": [
    "df"
   ]
  },
  {
   "cell_type": "code",
   "execution_count": 105,
   "metadata": {},
   "outputs": [],
   "source": [
    "df['WEEK'] = df['DayofMonth']//7"
   ]
  },
  {
   "cell_type": "code",
   "execution_count": 106,
   "metadata": {},
   "outputs": [
    {
     "data": {
      "text/html": [
       "<div>\n",
       "<style scoped>\n",
       "    .dataframe tbody tr th:only-of-type {\n",
       "        vertical-align: middle;\n",
       "    }\n",
       "\n",
       "    .dataframe tbody tr th {\n",
       "        vertical-align: top;\n",
       "    }\n",
       "\n",
       "    .dataframe thead th {\n",
       "        text-align: right;\n",
       "    }\n",
       "</style>\n",
       "<table border=\"1\" class=\"dataframe\">\n",
       "  <thead>\n",
       "    <tr style=\"text-align: right;\">\n",
       "      <th></th>\n",
       "      <th>Month</th>\n",
       "      <th>DayofMonth</th>\n",
       "      <th>DayOfWeek</th>\n",
       "      <th>DepTime</th>\n",
       "      <th>UniqueCarrier</th>\n",
       "      <th>Origin</th>\n",
       "      <th>Dest</th>\n",
       "      <th>Distance</th>\n",
       "      <th>dep_delayed_15min</th>\n",
       "      <th>WEEK</th>\n",
       "    </tr>\n",
       "  </thead>\n",
       "  <tbody>\n",
       "    <tr>\n",
       "      <td>0</td>\n",
       "      <td>8</td>\n",
       "      <td>233</td>\n",
       "      <td>7</td>\n",
       "      <td>4</td>\n",
       "      <td>AA</td>\n",
       "      <td>ATL</td>\n",
       "      <td>DFW</td>\n",
       "      <td>732</td>\n",
       "      <td>0</td>\n",
       "      <td>33</td>\n",
       "    </tr>\n",
       "    <tr>\n",
       "      <td>1</td>\n",
       "      <td>4</td>\n",
       "      <td>110</td>\n",
       "      <td>3</td>\n",
       "      <td>3</td>\n",
       "      <td>US</td>\n",
       "      <td>PIT</td>\n",
       "      <td>MCO</td>\n",
       "      <td>834</td>\n",
       "      <td>0</td>\n",
       "      <td>15</td>\n",
       "    </tr>\n",
       "    <tr>\n",
       "      <td>2</td>\n",
       "      <td>9</td>\n",
       "      <td>245</td>\n",
       "      <td>5</td>\n",
       "      <td>3</td>\n",
       "      <td>XE</td>\n",
       "      <td>RDU</td>\n",
       "      <td>CLE</td>\n",
       "      <td>416</td>\n",
       "      <td>0</td>\n",
       "      <td>35</td>\n",
       "    </tr>\n",
       "    <tr>\n",
       "      <td>3</td>\n",
       "      <td>11</td>\n",
       "      <td>329</td>\n",
       "      <td>6</td>\n",
       "      <td>2</td>\n",
       "      <td>OO</td>\n",
       "      <td>DEN</td>\n",
       "      <td>MEM</td>\n",
       "      <td>872</td>\n",
       "      <td>0</td>\n",
       "      <td>47</td>\n",
       "    </tr>\n",
       "    <tr>\n",
       "      <td>4</td>\n",
       "      <td>10</td>\n",
       "      <td>280</td>\n",
       "      <td>6</td>\n",
       "      <td>4</td>\n",
       "      <td>WN</td>\n",
       "      <td>MDW</td>\n",
       "      <td>OMA</td>\n",
       "      <td>423</td>\n",
       "      <td>1</td>\n",
       "      <td>40</td>\n",
       "    </tr>\n",
       "    <tr>\n",
       "      <td>...</td>\n",
       "      <td>...</td>\n",
       "      <td>...</td>\n",
       "      <td>...</td>\n",
       "      <td>...</td>\n",
       "      <td>...</td>\n",
       "      <td>...</td>\n",
       "      <td>...</td>\n",
       "      <td>...</td>\n",
       "      <td>...</td>\n",
       "      <td>...</td>\n",
       "    </tr>\n",
       "    <tr>\n",
       "      <td>99995</td>\n",
       "      <td>5</td>\n",
       "      <td>124</td>\n",
       "      <td>3</td>\n",
       "      <td>3</td>\n",
       "      <td>OO</td>\n",
       "      <td>SFO</td>\n",
       "      <td>RDD</td>\n",
       "      <td>199</td>\n",
       "      <td>0</td>\n",
       "      <td>17</td>\n",
       "    </tr>\n",
       "    <tr>\n",
       "      <td>99996</td>\n",
       "      <td>1</td>\n",
       "      <td>18</td>\n",
       "      <td>3</td>\n",
       "      <td>2</td>\n",
       "      <td>CO</td>\n",
       "      <td>EWR</td>\n",
       "      <td>DAB</td>\n",
       "      <td>884</td>\n",
       "      <td>0</td>\n",
       "      <td>2</td>\n",
       "    </tr>\n",
       "    <tr>\n",
       "      <td>99997</td>\n",
       "      <td>1</td>\n",
       "      <td>24</td>\n",
       "      <td>2</td>\n",
       "      <td>4</td>\n",
       "      <td>NW</td>\n",
       "      <td>DTW</td>\n",
       "      <td>IAH</td>\n",
       "      <td>1076</td>\n",
       "      <td>0</td>\n",
       "      <td>3</td>\n",
       "    </tr>\n",
       "    <tr>\n",
       "      <td>99998</td>\n",
       "      <td>4</td>\n",
       "      <td>117</td>\n",
       "      <td>4</td>\n",
       "      <td>3</td>\n",
       "      <td>MQ</td>\n",
       "      <td>DFW</td>\n",
       "      <td>GGG</td>\n",
       "      <td>140</td>\n",
       "      <td>0</td>\n",
       "      <td>16</td>\n",
       "    </tr>\n",
       "    <tr>\n",
       "      <td>99999</td>\n",
       "      <td>11</td>\n",
       "      <td>321</td>\n",
       "      <td>4</td>\n",
       "      <td>3</td>\n",
       "      <td>WN</td>\n",
       "      <td>SEA</td>\n",
       "      <td>SMF</td>\n",
       "      <td>605</td>\n",
       "      <td>0</td>\n",
       "      <td>45</td>\n",
       "    </tr>\n",
       "  </tbody>\n",
       "</table>\n",
       "<p>100000 rows × 10 columns</p>\n",
       "</div>"
      ],
      "text/plain": [
       "       Month  DayofMonth  DayOfWeek DepTime UniqueCarrier Origin Dest  \\\n",
       "0          8         233          7       4            AA    ATL  DFW   \n",
       "1          4         110          3       3            US    PIT  MCO   \n",
       "2          9         245          5       3            XE    RDU  CLE   \n",
       "3         11         329          6       2            OO    DEN  MEM   \n",
       "4         10         280          6       4            WN    MDW  OMA   \n",
       "...      ...         ...        ...     ...           ...    ...  ...   \n",
       "99995      5         124          3       3            OO    SFO  RDD   \n",
       "99996      1          18          3       2            CO    EWR  DAB   \n",
       "99997      1          24          2       4            NW    DTW  IAH   \n",
       "99998      4         117          4       3            MQ    DFW  GGG   \n",
       "99999     11         321          4       3            WN    SEA  SMF   \n",
       "\n",
       "       Distance  dep_delayed_15min  WEEK  \n",
       "0           732                  0    33  \n",
       "1           834                  0    15  \n",
       "2           416                  0    35  \n",
       "3           872                  0    47  \n",
       "4           423                  1    40  \n",
       "...         ...                ...   ...  \n",
       "99995       199                  0    17  \n",
       "99996       884                  0     2  \n",
       "99997      1076                  0     3  \n",
       "99998       140                  0    16  \n",
       "99999       605                  0    45  \n",
       "\n",
       "[100000 rows x 10 columns]"
      ]
     },
     "execution_count": 106,
     "metadata": {},
     "output_type": "execute_result"
    }
   ],
   "source": [
    "df"
   ]
  },
  {
   "cell_type": "code",
   "execution_count": null,
   "metadata": {},
   "outputs": [],
   "source": []
  },
  {
   "cell_type": "code",
   "execution_count": 107,
   "metadata": {},
   "outputs": [],
   "source": [
    "Delay_vs_Day_of_Week = pd.DataFrame({'delays' : df.groupby(['DayOfWeek'])['dep_delayed_15min'].mean()}).reset_index()\n",
    "Delay_vs_WEEK = pd.DataFrame({'delays' : df.groupby(['WEEK'])['dep_delayed_15min'].mean()}).reset_index()\n",
    "Delay_vs_AIRLINE = pd.DataFrame({'delays' : df.groupby(['UniqueCarrier'])['dep_delayed_15min'].mean()})#.reset_index()\n",
    "Delay_vs_SCHEDULED_DEPARTURE = pd.DataFrame({'delays' : df.groupby(['DepTime'])['dep_delayed_15min'].mean()}).reset_index()\n",
    "\n",
    "#Delay_vs_Day_of_Week.plot(x='DAY_OF_WEEK', y='delays')\n",
    "#Delay_vs_Day_of_Week['delays'].hist(hold=None)"
   ]
  },
  {
   "cell_type": "code",
   "execution_count": 108,
   "metadata": {},
   "outputs": [
    {
     "data": {
      "text/plain": [
       "2.0    38266\n",
       "3.0    37390\n",
       "4.0    21944\n",
       "1.0     2400\n",
       "Name: DepTime, dtype: int64"
      ]
     },
     "execution_count": 108,
     "metadata": {},
     "output_type": "execute_result"
    }
   ],
   "source": [
    "df['DepTime'].value_counts()"
   ]
  },
  {
   "cell_type": "code",
   "execution_count": 109,
   "metadata": {},
   "outputs": [
    {
     "data": {
      "text/plain": [
       "[Text(0, 0, '00:00 - 06:00'),\n",
       " Text(0, 0, '06:00 - 12:00'),\n",
       " Text(0, 0, '12:00 - 18:00'),\n",
       " Text(0, 0, '18:00 - 00:00')]"
      ]
     },
     "execution_count": 109,
     "metadata": {},
     "output_type": "execute_result"
    },
    {
     "data": {
      "image/png": "[encoded data removed]",
      "text/plain": [
       "<Figure size 1440x1080 with 4 Axes>"
      ]
     },
     "metadata": {
      "needs_background": "light"
     },
     "output_type": "display_data"
    }
   ],
   "source": [
    "fig = plt.figure(figsize=(20, 15))\n",
    "\n",
    "sub1 = fig.add_subplot(221) # instead of plt.subplot(2, 2, 1)\n",
    "sub1.set_title('Week of Year', fontsize=18, color=\"green\")\n",
    "sns.barplot(x=\"WEEK\", y=\"delays\", data=Delay_vs_WEEK, palette=\"ch:2.5,-.2,dark=.3\", ax = sub1)\n",
    "sub1.set_xticks(list(range(0,52,10)))\n",
    "sub1.set_xticklabels(list(range(0,52,10)))\n",
    "\n",
    "sub2 = fig.add_subplot(222)\n",
    "sub2.set_title('Day of Week', fontsize=18, color=\"red\")\n",
    "sns.barplot(x=\"DayOfWeek\", y=\"delays\", data=Delay_vs_Day_of_Week, palette=\"Reds_d\", ax = sub2)\n",
    "sub2.set_xticklabels(['Mon','Tue','Wed','Thu','Fri','Sat','Sun'])\n",
    "\n",
    "sub3 = fig.add_subplot(223)\n",
    "sub3.set_title('UniqueCarrier', fontsize=18, color=\"purple\")\n",
    "sns.barplot(y = list(range(len(Delay_vs_AIRLINE))), x=Delay_vs_AIRLINE['delays'], palette=\"Purples_d\", ax = sub3, orient=\"h\")\n",
    "sub3.set_yticks(range(len(Delay_vs_AIRLINE)))\n",
    "sub3.set_yticklabels(Delay_vs_AIRLINE.index)\n",
    "\n",
    "sub4 = fig.add_subplot(224)\n",
    "sns.barplot(x = list(range(len(Delay_vs_SCHEDULED_DEPARTURE))), y=Delay_vs_SCHEDULED_DEPARTURE['delays'], palette=\"GnBu_r\", ax = sub4)\n",
    "sub4.set_title('Departure Time', fontsize=18, color=\"green\")\n",
    "sub4.set_xticks([0, 1, 2, 3])\n",
    "sub4.set_xticklabels(['00:00 - 06:00','06:00 - 12:00','12:00 - 18:00','18:00 - 00:00'])"
   ]
  },
  {
   "cell_type": "code",
   "execution_count": 110,
   "metadata": {},
   "outputs": [],
   "source": [
    "flights_on_time = df[df['dep_delayed_15min']==0]\n",
    "flights_on_delay = df[df['dep_delayed_15min']==1]"
   ]
  },
  {
   "cell_type": "code",
   "execution_count": null,
   "metadata": {},
   "outputs": [],
   "source": []
  },
  {
   "cell_type": "code",
   "execution_count": 111,
   "metadata": {},
   "outputs": [],
   "source": [
    "flights_on_time = flights_on_time['dep_delayed_15min']\n",
    "flights_on_delay = flights_on_delay['dep_delayed_15min']"
   ]
  },
  {
   "cell_type": "code",
   "execution_count": 112,
   "metadata": {},
   "outputs": [
    {
     "data": {
      "text/plain": [
       "4        1\n",
       "18       1\n",
       "21       1\n",
       "33       1\n",
       "35       1\n",
       "        ..\n",
       "99971    1\n",
       "99976    1\n",
       "99980    1\n",
       "99989    1\n",
       "99993    1\n",
       "Name: dep_delayed_15min, Length: 19044, dtype: int64"
      ]
     },
     "execution_count": 112,
     "metadata": {},
     "output_type": "execute_result"
    }
   ],
   "source": [
    "flights_on_delay"
   ]
  },
  {
   "cell_type": "code",
   "execution_count": 113,
   "metadata": {},
   "outputs": [],
   "source": [
    "# sns.set(style=\"whitegrid\")\n",
    "\n",
    "# f, ax = plt.subplots(figsize=(16, 5))\n",
    "\n",
    "# sns.set_color_codes(\"pastel\")\n",
    "# sns.barplot(x='UniqueCarrier', y=flights_on_delay, data=df,\n",
    "#             label=\"delayed\", color=\"b\")\n",
    "\n",
    "# sns.set_color_codes(\"muted\")\n",
    "# sns.barplot(x='UniqueCarrier', y=flights_on_time, data=df,\n",
    "#             label=\"not_delayed\", color=\"b\")\n",
    "\n",
    "# ax.legend(ncol=2, loc=\"lower right\", frameon=True)\n",
    "# ax.set(xlim=(0, 24), ylabel=\"\",\n",
    "#        xlabel=\"Automobile collisions per billion miles\")\n",
    "# sns.despine(left=True, bottom=True)"
   ]
  },
  {
   "cell_type": "code",
   "execution_count": null,
   "metadata": {},
   "outputs": [],
   "source": []
  },
  {
   "cell_type": "code",
   "execution_count": null,
   "metadata": {},
   "outputs": [],
   "source": []
  },
  {
   "cell_type": "code",
   "execution_count": 114,
   "metadata": {},
   "outputs": [
    {
     "data": {
      "text/plain": [
       "30"
      ]
     },
     "execution_count": 114,
     "metadata": {},
     "output_type": "execute_result"
    }
   ],
   "source": [
    "minDist"
   ]
  },
  {
   "cell_type": "code",
   "execution_count": null,
   "metadata": {},
   "outputs": [],
   "source": []
  },
  {
   "cell_type": "code",
   "execution_count": null,
   "metadata": {},
   "outputs": [],
   "source": []
  },
  {
   "cell_type": "code",
   "execution_count": null,
   "metadata": {},
   "outputs": [],
   "source": []
  },
  {
   "cell_type": "code",
   "execution_count": null,
   "metadata": {},
   "outputs": [],
   "source": []
  }
 ],
 "metadata": {
  "kernelspec": {
   "display_name": "Python 3",
   "language": "python",
   "name": "python3"
  },
  "language_info": {
   "codemirror_mode": {
    "name": "ipython",
    "version": 3
   },
   "file_extension": ".py",
   "mimetype": "text/x-python",
   "name": "python",
   "nbconvert_exporter": "python",
   "pygments_lexer": "ipython3",
   "version": "3.7.4"
  }
 },
 "nbformat": 4,
 "nbformat_minor": 2
}
