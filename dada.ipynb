{
 "cells": [
  {
   "cell_type": "code",
   "execution_count": 51,
   "metadata": {},
   "outputs": [
    {
     "name": "stdout",
     "output_type": "stream",
     "text": [
      "['000', '000', '', '', '000000000', '', '000000000000000']\n",
      "['0', '0', '0', '0', '0', '0', '0', '0', '0', '0', '0', '0', '0', '0', '0']\n",
      "15\n"
     ]
    }
   ],
   "source": [
    "a='000100011100000000011000000000000000'\n",
    "c=a.split('1')\n",
    "print(c)\n",
    "n=max(c)\n",
    "n=list(n)\n",
    "print(n)\n",
    "print(n.count('0'))"
   ]
  },
  {
   "cell_type": "code",
   "execution_count": 38,
   "metadata": {},
   "outputs": [
    {
     "name": "stdout",
     "output_type": "stream",
     "text": [
      "0\n"
     ]
    }
   ],
   "source": [
    "for i in (a):\n",
    "    a=list(a)\n",
    "    if i==0:\n",
    "        b+=1\n",
    "print(b)"
   ]
  },
  {
   "cell_type": "code",
   "execution_count": 53,
   "metadata": {},
   "outputs": [],
   "source": [
    "s='00101110000110'\n"
   ]
  },
  {
   "cell_type": "code",
   "execution_count": 160,
   "metadata": {},
   "outputs": [
    {
     "data": {
      "text/plain": [
       "4"
      ]
     },
     "execution_count": 160,
     "metadata": {},
     "output_type": "execute_result"
    }
   ],
   "source": [
    "len(max(s.split('1')))"
   ]
  },
  {
   "cell_type": "code",
   "execution_count": 161,
   "metadata": {},
   "outputs": [
    {
     "name": "stdout",
     "output_type": "stream",
     "text": [
      "0000\n"
     ]
    }
   ],
   "source": [
    "m=max(s.split('1'))\n",
    "print(m)"
   ]
  },
  {
   "cell_type": "code",
   "execution_count": null,
   "metadata": {},
   "outputs": [],
   "source": []
  },
  {
   "cell_type": "code",
   "execution_count": 234,
   "metadata": {},
   "outputs": [
    {
     "name": "stdout",
     "output_type": "stream",
     "text": [
      "[2, 3, 3, 6, 8, 10, 12, 22, 100, 444]\n",
      "444\n"
     ]
    }
   ],
   "source": [
    "a = [100,10,22,12,2,3,6,3,8,444]\n",
    "swap = True\n",
    "while swap:\n",
    "    swap = False\n",
    "    for i in range(len(a)-1):\n",
    "        if a[i] > a[i+1]:\n",
    "            a[i],a[i+1] = a[i+1],a[i]\n",
    "            swap = True\n",
    "print(a)\n",
    "print(a[-1])"
   ]
  },
  {
   "cell_type": "code",
   "execution_count": 235,
   "metadata": {
    "scrolled": true
   },
   "outputs": [
    {
     "name": "stdout",
     "output_type": "stream",
     "text": [
      "[100, 444]\n"
     ]
    }
   ],
   "source": [
    "g=a[-2:]\n",
    "print(g)\n",
    "# c=a[-1]\n",
    "# a.pop()\n",
    "# print(c,a[-1])"
   ]
  },
  {
   "cell_type": "code",
   "execution_count": 236,
   "metadata": {},
   "outputs": [
    {
     "name": "stdout",
     "output_type": "stream",
     "text": [
      "444 8\n"
     ]
    }
   ],
   "source": [
    "a = [100,10,22,12,333,2,3,6,3,8,444]\n",
    "c=0\n",
    "d=0\n",
    "for i in range(len(a)):\n",
    "    if a[i]>c:\n",
    "        c=a[i]\n",
    "print(c,d)"
   ]
  },
  {
   "cell_type": "code",
   "execution_count": null,
   "metadata": {},
   "outputs": [],
   "source": []
  },
  {
   "cell_type": "code",
   "execution_count": null,
   "metadata": {},
   "outputs": [],
   "source": []
  }
 ],
 "metadata": {
  "kernelspec": {
   "display_name": "Python 3",
   "language": "python",
   "name": "python3"
  },
  "language_info": {
   "codemirror_mode": {
    "name": "ipython",
    "version": 3
   },
   "file_extension": ".py",
   "mimetype": "text/x-python",
   "name": "python",
   "nbconvert_exporter": "python",
   "pygments_lexer": "ipython3",
   "version": "3.7.4"
  }
 },
 "nbformat": 4,
 "nbformat_minor": 2
}
